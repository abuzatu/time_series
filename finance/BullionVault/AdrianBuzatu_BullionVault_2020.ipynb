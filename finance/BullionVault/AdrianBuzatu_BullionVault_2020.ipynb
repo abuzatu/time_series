{
 "cells": [
  {
   "cell_type": "code",
   "execution_count": null,
   "metadata": {},
   "outputs": [],
   "source": [
    "import numpy as np\n",
    "import pandas as pd\n",
    "import matplotlib.pyplot as plt"
   ]
  },
  {
   "cell_type": "code",
   "execution_count": null,
   "metadata": {},
   "outputs": [],
   "source": [
    "input_folder_name = \"/Users/abuzatu/Work/data/finance/stocks/BullionVault\"\n",
    "# input_file_name = f\"{input_folder_name}/BullionVault_PL_NARIAD_10_September_2021_095253.csv\"\n",
    "input_file_name = f\"{input_folder_name}/BullionVault_PL_NARIAD_09_May_2022_160117.csv\"\n",
    "input_file_name"
   ]
  },
  {
   "cell_type": "code",
   "execution_count": null,
   "metadata": {},
   "outputs": [],
   "source": [
    "df = pd.read_csv(input_file_name)\n",
    "df"
   ]
  },
  {
   "cell_type": "markdown",
   "metadata": {},
   "source": [
    "# What the table received from BullionVault contains\n",
    "\n",
    "Every row is the table is either:\n",
    "    * a trade (buy or sell)\n",
    "    * or a montly fee paid to BullionVault to hold the physical bullion (gold or silver) that I bought digitally\n",
    "\n",
    "For every row, there is a:\n",
    "* COST in euro (it includes the fee paid for each trade plus one fee every month for holding the physical bullion)\n",
    "* PROCEEDS in euro\n",
    "\n",
    "* The realised gain"
   ]
  },
  {
   "cell_type": "markdown",
   "metadata": {},
   "source": [
    "# Keeping only 2020\n",
    "\n",
    "\n",
    "There are 799 rows, over time.\n",
    "\n",
    "I declared taxes in Germany in 2019, but I did not trade at BullionVault in 2019.\n",
    "\n",
    "I now calculate for the tax declaration in Germany of calendar year 2020.\n",
    "\n",
    "So let's keep only the subset of actions in 2020. There are 769 of them."
   ]
  },
  {
   "cell_type": "code",
   "execution_count": null,
   "metadata": {},
   "outputs": [],
   "source": [
    "df = df[df[\"Date (UTC)\"].str.contains(\"2020\")]\n",
    "df"
   ]
  },
  {
   "cell_type": "markdown",
   "metadata": {},
   "source": [
    "Change format of date so that we can short chronologically"
   ]
  },
  {
   "cell_type": "code",
   "execution_count": null,
   "metadata": {},
   "outputs": [],
   "source": [
    "df[\"Date (UTC)\"] = pd.to_datetime(df[\"Date (UTC)\"])\n",
    "df = df.sort_values(by=\"Date (UTC)\")\n",
    "df"
   ]
  },
  {
   "cell_type": "code",
   "execution_count": null,
   "metadata": {},
   "outputs": [],
   "source": [
    "df[\"Asset Class\"].value_counts()"
   ]
  },
  {
   "cell_type": "code",
   "execution_count": null,
   "metadata": {},
   "outputs": [],
   "source": [
    "df[\"Name\"].value_counts()"
   ]
  },
  {
   "cell_type": "code",
   "execution_count": null,
   "metadata": {},
   "outputs": [],
   "source": [
    "df[\"Action\"].value_counts()"
   ]
  },
  {
   "cell_type": "markdown",
   "metadata": {},
   "source": [
    "# Monthtly fee appear as CUSTODY\n",
    "\n",
    "Monthly fee in EUR from BullionVault to hold the phyical bullion (silver or gold) on my behalf.\n",
    "\n",
    "While I bought the bullion digitally, and never took physical possession, I was the actual owner of a small piece of physical bullion"
   ]
  },
  {
   "cell_type": "code",
   "execution_count": null,
   "metadata": {},
   "outputs": [],
   "source": [
    "df[df[\"Action\"] == \"CUSTODY\"]"
   ]
  },
  {
   "cell_type": "code",
   "execution_count": null,
   "metadata": {},
   "outputs": [],
   "source": [
    "# First two buys\n",
    "df[df[\"Action\"] == \"BUY\"][0:2]"
   ]
  },
  {
   "cell_type": "code",
   "execution_count": null,
   "metadata": {},
   "outputs": [],
   "source": [
    "# Last two buys\n",
    "df[df[\"Action\"] == \"BUY\"][-2:]"
   ]
  },
  {
   "cell_type": "code",
   "execution_count": null,
   "metadata": {},
   "outputs": [],
   "source": [
    "# First two sells\n",
    "df[df[\"Action\"] == \"SELL\"][0:2]"
   ]
  },
  {
   "cell_type": "code",
   "execution_count": null,
   "metadata": {},
   "outputs": [],
   "source": [
    "# Last wo sells\n",
    "df[df[\"Action\"] == \"SELL\"][-2:]"
   ]
  },
  {
   "cell_type": "markdown",
   "metadata": {},
   "source": [
    "# Calculate realised profit / loss\n",
    "\n",
    "BullionVault calculates the realised gain for each row, so make the sum of all the valumes in the column \"Realised Gain (€)\""
   ]
  },
  {
   "cell_type": "code",
   "execution_count": null,
   "metadata": {},
   "outputs": [],
   "source": [
    "df[\"Realised Gain (€)\"].sum()"
   ]
  },
  {
   "cell_type": "markdown",
   "metadata": {},
   "source": [
    "# Custody fees\n",
    "\n",
    "Note these were not claimed in 2020, I forgot to claim them."
   ]
  },
  {
   "cell_type": "code",
   "execution_count": null,
   "metadata": {},
   "outputs": [],
   "source": [
    "df[df[\"Action\"] == \"CUSTODY\"][\"Cost (€)\"].sum()"
   ]
  },
  {
   "cell_type": "markdown",
   "metadata": {},
   "source": [
    "# Wire charges\n",
    "\n",
    "To this I add 20 euros in wire charges for two money withdrawals I have done in 2020. \n",
    "\n",
    "Please see the last page of the file `AdrianBuzatu_BullionVault_Statement_2020.pdf`."
   ]
  },
  {
   "cell_type": "markdown",
   "metadata": {},
   "source": [
    "# Total claim for 2020\n",
    "\n",
    "Note that in 2020 I forgot to claim the custody fees of 66.52"
   ]
  },
  {
   "cell_type": "code",
   "execution_count": null,
   "metadata": {},
   "outputs": [],
   "source": [
    "-248.53 - 20.0"
   ]
  },
  {
   "cell_type": "markdown",
   "metadata": {},
   "source": [
    "# Conclusion\n",
    "\n",
    "In conclusion, I would like to claim 268.53 euro as a loss from trading physical bullion (silver and gold) at BullionVault.com in calendar year 2020."
   ]
  }
 ],
 "metadata": {
  "kernelspec": {
   "display_name": "Python 3",
   "language": "python",
   "name": "python3"
  },
  "language_info": {
   "codemirror_mode": {
    "name": "ipython",
    "version": 3
   },
   "file_extension": ".py",
   "mimetype": "text/x-python",
   "name": "python",
   "nbconvert_exporter": "python",
   "pygments_lexer": "ipython3",
   "version": "3.8.6"
  }
 },
 "nbformat": 4,
 "nbformat_minor": 4
}
