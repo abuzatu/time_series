{
 "cells": [
  {
   "cell_type": "code",
   "execution_count": null,
   "metadata": {},
   "outputs": [],
   "source": [
    "import numpy as np\n",
    "import pandas as pd\n",
    "import matplotlib.pyplot as plt"
   ]
  },
  {
   "cell_type": "code",
   "execution_count": null,
   "metadata": {},
   "outputs": [],
   "source": [
    "input_folder_name = \"/Users/abuzatu/Work/data/finance/stocks/BullionVault\"\n",
    "# input_file_name = f\"{input_folder_name}/BullionVault_PL_NARIAD_10_September_2021_095253.csv\"\n",
    "input_file_name = f\"{input_folder_name}/BullionVault_PL_NARIAD_09_May_2022_160117.csv\"\n",
    "input_file_name"
   ]
  },
  {
   "cell_type": "code",
   "execution_count": null,
   "metadata": {},
   "outputs": [],
   "source": [
    "df = pd.read_csv(input_file_name)\n",
    "df"
   ]
  },
  {
   "cell_type": "markdown",
   "metadata": {},
   "source": [
    "# What the table received from BullionVault contains\n",
    "\n",
    "Every row is the table is either:\n",
    "    * a trade (buy or sell)\n",
    "    * or a montly fee paid to BullionVault to hold the physical bullion (gold or silver) that I bought digitally\n",
    "\n",
    "For every row, there is a:\n",
    "* COST in euro (it includes the fee paid for each trade plus one fee every month for holding the physical bullion)\n",
    "* PROCEEDS in euro\n",
    "\n",
    "* The realised gain"
   ]
  },
  {
   "cell_type": "markdown",
   "metadata": {},
   "source": [
    "# Keeping only 2020 and 2021\n",
    "\n",
    "See the profit loss in both years. And subtract the profit/loss in 2020 (see the other Jupyter Notebook only for 2020). The reason is that trades can start in one year and end in another year. So it is not enough to look only at trades that started in 2021. "
   ]
  },
  {
   "cell_type": "code",
   "execution_count": null,
   "metadata": {},
   "outputs": [],
   "source": [
    "df = df[(df[\"Date (UTC)\"].str.contains(\"2020\")) | (df[\"Date (UTC)\"].str.contains(\"2021\"))]\n",
    "df"
   ]
  },
  {
   "cell_type": "markdown",
   "metadata": {},
   "source": [
    "Change format of date so that we can short chronologically"
   ]
  },
  {
   "cell_type": "code",
   "execution_count": null,
   "metadata": {},
   "outputs": [],
   "source": [
    "df[\"Date (UTC)\"] = pd.to_datetime(df[\"Date (UTC)\"])\n",
    "df = df.sort_values(by=\"Date (UTC)\")\n",
    "df"
   ]
  },
  {
   "cell_type": "code",
   "execution_count": null,
   "metadata": {},
   "outputs": [],
   "source": [
    "df[\"Asset Class\"].value_counts()"
   ]
  },
  {
   "cell_type": "code",
   "execution_count": null,
   "metadata": {},
   "outputs": [],
   "source": [
    "df[\"Name\"].value_counts()"
   ]
  },
  {
   "cell_type": "code",
   "execution_count": null,
   "metadata": {},
   "outputs": [],
   "source": [
    "df[\"Action\"].value_counts()"
   ]
  },
  {
   "cell_type": "markdown",
   "metadata": {},
   "source": [
    "# Monthtly fee appear as CUSTODY\n",
    "\n",
    "Monthly fee in EUR from BullionVault to hold the phyical bullion (silver or gold) on my behalf.\n",
    "\n",
    "While I bought the bullion digitally, and never took physical possession, I was the actual owner of a small piece of physical bullion"
   ]
  },
  {
   "cell_type": "code",
   "execution_count": null,
   "metadata": {},
   "outputs": [],
   "source": [
    "df[df[\"Action\"] == \"CUSTODY\"]"
   ]
  },
  {
   "cell_type": "code",
   "execution_count": null,
   "metadata": {},
   "outputs": [],
   "source": [
    "# First two buys\n",
    "df[df[\"Action\"] == \"BUY\"][0:2]"
   ]
  },
  {
   "cell_type": "code",
   "execution_count": null,
   "metadata": {},
   "outputs": [],
   "source": [
    "# Last two buys\n",
    "df[df[\"Action\"] == \"BUY\"][-2:]"
   ]
  },
  {
   "cell_type": "code",
   "execution_count": null,
   "metadata": {},
   "outputs": [],
   "source": [
    "# First two sells\n",
    "df[df[\"Action\"] == \"SELL\"][0:2]"
   ]
  },
  {
   "cell_type": "code",
   "execution_count": null,
   "metadata": {},
   "outputs": [],
   "source": [
    "# Last wo sells\n",
    "df[df[\"Action\"] == \"SELL\"][-2:]"
   ]
  },
  {
   "cell_type": "markdown",
   "metadata": {},
   "source": [
    "# Calculate realised profit / loss\n",
    "\n",
    "BullionVault calculates the realised gain for each row, so make the sum of all the valumes in the column \"Realised Gain (€)\""
   ]
  },
  {
   "cell_type": "code",
   "execution_count": null,
   "metadata": {},
   "outputs": [],
   "source": [
    "df[\"Realised Gain (€)\"].sum()"
   ]
  },
  {
   "cell_type": "markdown",
   "metadata": {},
   "source": [
    "# Custody fees\n",
    "\n",
    "Note Custody fees were not claimed as lossed in 2020, so claiming now."
   ]
  },
  {
   "cell_type": "code",
   "execution_count": null,
   "metadata": {},
   "outputs": [],
   "source": [
    "df[df[\"Action\"] == \"CUSTODY\"][\"Cost (€)\"].sum()"
   ]
  },
  {
   "cell_type": "markdown",
   "metadata": {},
   "source": [
    "# Specific for 2021\n",
    "\n",
    "Making difference of profit/loss of 2020+2021 to 2020 alone:"
   ]
  },
  {
   "cell_type": "code",
   "execution_count": null,
   "metadata": {},
   "outputs": [],
   "source": [
    "# Realised gain\n",
    "129.34 - (-248.53)"
   ]
  },
  {
   "cell_type": "code",
   "execution_count": null,
   "metadata": {},
   "outputs": [],
   "source": [
    "# custody fees\n",
    "99.79 - 66.52"
   ]
  },
  {
   "cell_type": "markdown",
   "metadata": {},
   "source": [
    "# Wire charges\n",
    "\n",
    "To this I add 10 euros in wire charges for one money withdrawals I have done in 2021. \n",
    "\n",
    "Please see the last page of the file `AdrianBuzatu_BullionVault_Statement_2021.pdf`."
   ]
  },
  {
   "cell_type": "markdown",
   "metadata": {},
   "source": [
    "# Total claim for 2021\n",
    "\n",
    "Note that in 2020 I forgot to claim the custody fee of 66.52. Not sure if it is allowed to claim now. Without it, my total claim is a profit of 334.6. If I can claim those fees from 2020, the total profit would be "
   ]
  },
  {
   "cell_type": "code",
   "execution_count": null,
   "metadata": {},
   "outputs": [],
   "source": [
    "# if I do not claim also the custody fees of 2020 that I forgot to claim\n",
    "377.87 - 33.27 - 10"
   ]
  },
  {
   "cell_type": "code",
   "execution_count": null,
   "metadata": {},
   "outputs": [],
   "source": [
    "# if I claim also the custody fees of 2020 that I forgot to claim\n",
    "377.87 - 33.27 - 10 - 66.52"
   ]
  },
  {
   "cell_type": "markdown",
   "metadata": {},
   "source": [
    "# Conclusion\n",
    "\n",
    "In conclusion, I would like to claim 334.6 euro as a profit from trading physical bullion (silver and gold) at BullionVault.com in calendar year 2021."
   ]
  }
 ],
 "metadata": {
  "kernelspec": {
   "display_name": "Python 3",
   "language": "python",
   "name": "python3"
  },
  "language_info": {
   "codemirror_mode": {
    "name": "ipython",
    "version": 3
   },
   "file_extension": ".py",
   "mimetype": "text/x-python",
   "name": "python",
   "nbconvert_exporter": "python",
   "pygments_lexer": "ipython3",
   "version": "3.8.6"
  }
 },
 "nbformat": 4,
 "nbformat_minor": 4
}
