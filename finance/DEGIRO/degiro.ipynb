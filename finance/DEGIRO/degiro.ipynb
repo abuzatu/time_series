{
 "cells": [
  {
   "cell_type": "code",
   "execution_count": null,
   "metadata": {},
   "outputs": [],
   "source": [
    "import degiroapi\n",
    "from degiroapi.product import Product\n",
    "from degiroapi.order import Order\n",
    "from degiroapi.utils import pretty_json\n",
    "\n",
    "from datetime import datetime, timedelta\n",
    "import time"
   ]
  },
  {
   "cell_type": "code",
   "execution_count": null,
   "metadata": {},
   "outputs": [],
   "source": [
    "# login\n",
    "degiro = degiroapi.DeGiro()\n",
    "degiro.login(\"bla\", \"bla\")"
   ]
  },
  {
   "cell_type": "code",
   "execution_count": null,
   "metadata": {},
   "outputs": [],
   "source": [
    "# logout\n",
    "degiro.logout()"
   ]
  },
  {
   "cell_type": "code",
   "execution_count": null,
   "metadata": {},
   "outputs": [],
   "source": [
    "# print the current cash funds\n",
    "cashfunds = degiro.getdata(degiroapi.Data.Type.CASHFUNDS)\n",
    "for data in cashfunds:\n",
    "    print(data)"
   ]
  },
  {
   "cell_type": "code",
   "execution_count": null,
   "metadata": {},
   "outputs": [],
   "source": [
    "# print the current portfolio (True to filter Products with size 0, False to show all)\n",
    "portfolio = degiro.getdata(degiroapi.Data.Type.PORTFOLIO, True)\n",
    "for data in portfolio:\n",
    "    print(data)"
   ]
  },
  {
   "cell_type": "code",
   "execution_count": null,
   "metadata": {},
   "outputs": [],
   "source": [
    "# sum in euro of values in the portfolio\n",
    "values = [data[\"value\"] for data in portfolio]\n",
    "sum(values)"
   ]
  },
  {
   "cell_type": "code",
   "execution_count": null,
   "metadata": {},
   "outputs": [],
   "source": [
    "# sum in euro of values in the portfolio, skip ETF to keep only stocks\n",
    "values = [data[\"value\"] for data in portfolio if data[\"id\"] not in ['4587473', '846716']]\n",
    "sum(values)"
   ]
  },
  {
   "cell_type": "code",
   "execution_count": null,
   "metadata": {},
   "outputs": [],
   "source": [
    "# include all products I ever had\n",
    "portfolio = degiro.getdata(degiroapi.Data.Type.PORTFOLIO, False)\n",
    "for data in portfolio:\n",
    "    print(data)"
   ]
  },
  {
   "cell_type": "code",
   "execution_count": null,
   "metadata": {},
   "outputs": [],
   "source": [
    "def print_product(p):\n",
    "    print(f\"id={p.id}\")\n",
    "    print(f\"name={p.name}\")\n",
    "    print(f\"symbol={p.symbol}\")\n",
    "    print(f\"isin={p.isin}\")\n",
    "    print(f\"currency={p.currency}\")\n",
    "    print(f\"product_type={p.product_type}\")\n",
    "    print(f\"tradable={p.tradable}\")\n",
    "    print(f\"close_price={p.close_price}\")\n",
    "    print(f\"close_date={p.close_price_date}\")"
   ]
  },
  {
   "cell_type": "code",
   "execution_count": null,
   "metadata": {},
   "outputs": [],
   "source": [
    "# output one search result\n",
    "products = degiro.search_products('Pfizer')\n",
    "len(products)"
   ]
  },
  {
   "cell_type": "code",
   "execution_count": null,
   "metadata": {},
   "outputs": [],
   "source": [
    "products[0]"
   ]
  },
  {
   "cell_type": "code",
   "execution_count": null,
   "metadata": {},
   "outputs": [],
   "source": [
    "print_product(Product(p))"
   ]
  },
  {
   "cell_type": "code",
   "execution_count": null,
   "metadata": {},
   "outputs": [],
   "source": [
    "# output multiple search result\n",
    "products = degiro.search_products('Pfizer', 3)\n",
    "for p in products:\n",
    "    print()\n",
    "    print_product(Product(p))"
   ]
  },
  {
   "cell_type": "code",
   "execution_count": null,
   "metadata": {},
   "outputs": [],
   "source": [
    "# printing info for a specified product ID:\n",
    "info = degiro.product_info(16600513)\n",
    "print(info[\"id\"], info[\"name\"], info[\"currency\"], info[\"closePrice\"])"
   ]
  },
  {
   "cell_type": "code",
   "execution_count": null,
   "metadata": {},
   "outputs": [],
   "source": [
    "# print transactions\n",
    "transactions = degiro.transactions(datetime(2019, 1, 1), datetime.now())\n",
    "print(pretty_json(transactions))"
   ]
  },
  {
   "cell_type": "code",
   "execution_count": null,
   "metadata": {},
   "outputs": [],
   "source": [
    "# printing info for a specified product ID:\n",
    "info = degiro.product_info(19284463)\n",
    "print(info[\"id\"], info[\"name\"], info[\"currency\"], info[\"closePrice\"])"
   ]
  },
  {
   "cell_type": "code",
   "execution_count": null,
   "metadata": {},
   "outputs": [],
   "source": [
    "# print order history (maximum timespan 90 days)\n",
    "orders = degiro.orders(datetime.now() - timedelta(days=90), datetime.now())\n",
    "print(pretty_json(orders))"
   ]
  },
  {
   "cell_type": "code",
   "execution_count": null,
   "metadata": {},
   "outputs": [],
   "source": [
    "# printing order history (maximum timespan 90 days), with argument True return only open orders\n",
    "orders = degiro.orders(datetime.now() - timedelta(days=90), datetime.now(), True)\n",
    "print(pretty_json(orders))"
   ]
  },
  {
   "cell_type": "code",
   "execution_count": null,
   "metadata": {},
   "outputs": [],
   "source": [
    "orders[0]"
   ]
  },
  {
   "cell_type": "code",
   "execution_count": null,
   "metadata": {},
   "outputs": [],
   "source": [
    "orders[0][\"orderId\"]"
   ]
  },
  {
   "cell_type": "code",
   "execution_count": null,
   "metadata": {},
   "outputs": [],
   "source": [
    "# delete order\n",
    "degiro.delete_order(orders[0][\"orderId\"])"
   ]
  },
  {
   "cell_type": "code",
   "execution_count": null,
   "metadata": {},
   "outputs": [],
   "source": [
    "# printing order history (maximum timespan 90 days), with argument True return only open orders\n",
    "orders = degiro.orders(datetime.now() - timedelta(days=90), datetime.now(), True)\n",
    "print(pretty_json(orders))"
   ]
  },
  {
   "cell_type": "code",
   "execution_count": null,
   "metadata": {},
   "outputs": [],
   "source": [
    "# getting realtime and historical data from a stock\n",
    "products = degiro.search_products('SPCE')\n",
    "products"
   ]
  },
  {
   "cell_type": "code",
   "execution_count": null,
   "metadata": {},
   "outputs": [],
   "source": [
    "# Interval can be set to One_Day, One_Week, One_Month, Three_Months, Six_Months, One_Year, Three_Years, Five_Years, Max\n",
    "realprice = degiro.real_time_price(Product(products[0]).id, degiroapi.Interval.Type.One_Day)\n",
    "realprice"
   ]
  },
  {
   "cell_type": "code",
   "execution_count": null,
   "metadata": {},
   "outputs": [],
   "source": [
    "realprice"
   ]
  },
  {
   "cell_type": "code",
   "execution_count": null,
   "metadata": {},
   "outputs": [],
   "source": [
    "# reatime data\n",
    "print(realprice[0]['data']['lastPrice'])\n",
    "print(pretty_json(realprice[0]['data']))"
   ]
  },
  {
   "cell_type": "code",
   "execution_count": null,
   "metadata": {},
   "outputs": [],
   "source": [
    "# historical data\n",
    "print(realprice[1]['data'])"
   ]
  },
  {
   "cell_type": "code",
   "execution_count": null,
   "metadata": {},
   "outputs": [],
   "source": [
    "# get s&p 500 stock list\n",
    "sp5symbols = []\n",
    "products = degiro.get_stock_list(14, 846)\n",
    "len(products)\n",
    "for product in products:\n",
    "    sp5symbols.append(Product(product).symbol)"
   ]
  },
  {
   "cell_type": "code",
   "execution_count": null,
   "metadata": {},
   "outputs": [],
   "source": [
    "sp5symbols"
   ]
  },
  {
   "cell_type": "code",
   "execution_count": null,
   "metadata": {},
   "outputs": [],
   "source": [
    "len(sp5symbols)"
   ]
  },
  {
   "cell_type": "code",
   "execution_count": null,
   "metadata": {},
   "outputs": [],
   "source": [
    "# get german30 stock list\n",
    "daxsymbols = []\n",
    "products = degiro.get_stock_list(6, 906)\n",
    "for product in products:\n",
    "    daxsymbols.append(Product(product).symbol)"
   ]
  },
  {
   "cell_type": "code",
   "execution_count": null,
   "metadata": {},
   "outputs": [],
   "source": [
    "len(daxsymbols)"
   ]
  },
  {
   "cell_type": "code",
   "execution_count": null,
   "metadata": {},
   "outputs": [],
   "source": [
    "daxsymbols"
   ]
  },
  {
   "cell_type": "markdown",
   "metadata": {},
   "source": [
    "# Placing orders"
   ]
  },
  {
   "cell_type": "code",
   "execution_count": null,
   "metadata": {},
   "outputs": [],
   "source": [
    "# set a limit order price to which the order gets executed\n",
    "# order type, product id, execution time type (either 1 for \"valid on a daily basis\", or 3 for unlimited, size, limit(the limit price)\n",
    "# degiro.buyorder(Order.Type.LIMIT, Product(products[0]).id, 3, 1, 30)"
   ]
  },
  {
   "cell_type": "code",
   "execution_count": null,
   "metadata": {},
   "outputs": [],
   "source": [
    "# sets a limit order when the stoploss price is reached(not bought for more than the limit at the stop loss price)\n",
    "# order type, product id, execution time type (either 1 for \"valid on a daily basis\", or 3 for \"unlimited\"), size, limit(the limit price), stop_loss(stop loss price)\n",
    "# degiro.buyorder(Order.Type.STOPLIMIT, Product(products[0]).id, 3, 1, 38, 38)"
   ]
  },
  {
   "cell_type": "code",
   "execution_count": null,
   "metadata": {},
   "outputs": [],
   "source": [
    "# order type, product id, execution time type (either 1 for \"valid on a daily basis\", or 3 for \"unlimited\"), size\n",
    "# degiro.buyorder(Order.Type.MARKET, Product(products[0]).id, 3, 1)"
   ]
  },
  {
   "cell_type": "code",
   "execution_count": null,
   "metadata": {},
   "outputs": [],
   "source": [
    "# the stop loss price has to be higher than the current price, when current price reaches the stoploss price the order is placed\n",
    "# order type, product id, execution time type (either 1 for \"valid on a daily basis\", or 3 for \"unlimited\"), size, don't change none, stop_loss(stop loss price)\n",
    "# degiro.buyorder(Order.Type.STOPLOSS, Product(products[0]).id, 3, 1, None, 38)"
   ]
  },
  {
   "cell_type": "code",
   "execution_count": null,
   "metadata": {},
   "outputs": [],
   "source": []
  },
  {
   "cell_type": "code",
   "execution_count": null,
   "metadata": {},
   "outputs": [],
   "source": []
  },
  {
   "cell_type": "code",
   "execution_count": null,
   "metadata": {},
   "outputs": [],
   "source": [
    "products = degiro.search_products('SPCE')\n",
    "products"
   ]
  },
  {
   "cell_type": "code",
   "execution_count": null,
   "metadata": {},
   "outputs": [],
   "source": [
    "Product(products[0]).name"
   ]
  },
  {
   "cell_type": "code",
   "execution_count": null,
   "metadata": {},
   "outputs": [],
   "source": [
    "Product(products[0]).id"
   ]
  },
  {
   "cell_type": "code",
   "execution_count": null,
   "metadata": {},
   "outputs": [],
   "source": [
    "# selling a product\n",
    "# order type, product id, execution time type (either 1 for \"valid on a daily basis\", or 3 for unlimited, size, limit(the limit price)\n",
    "degiro.sellorder(Order.Type.LIMIT, Product(products[0]).id, 1, 10, 34.98)"
   ]
  },
  {
   "cell_type": "code",
   "execution_count": null,
   "metadata": {},
   "outputs": [],
   "source": [
    "# order type, product id, execution time type (either 1 for \"valid on a daily basis\", or 3 for \"unlimited\"), size, limit(the limit price), stop_loss(stop loss price)\n",
    "degiro.sellorder(Order.Type.STOPLIMIT, Product(products[0]).id, 3, 15, 25.0, 25.03)"
   ]
  },
  {
   "cell_type": "code",
   "execution_count": null,
   "metadata": {},
   "outputs": [],
   "source": [
    "# order type, product id, execution time type (either 1 for \"valid on a daily basis\", or 3 for \"unlimited\"), size\n",
    "degiro.sellorder(Order.Type.MARKET, Product(products[0]).id, 3, 20)"
   ]
  },
  {
   "cell_type": "code",
   "execution_count": null,
   "metadata": {},
   "outputs": [],
   "source": [
    "# order type, product id, execution time type (either 1 for \"valid on a daily basis\", or 3 for \"unlimited\"), size, don't change none, stop_loss(stop loss price)\n",
    "degiro.sellorder(Order.Type.STOPLOSS, Product(products[0]).id, 3, 1, None, 27.10)"
   ]
  },
  {
   "cell_type": "code",
   "execution_count": null,
   "metadata": {},
   "outputs": [],
   "source": [
    "# printing order history (maximum timespan 90 days), with argument True return only open orders\n",
    "orders = degiro.orders(datetime.now() - timedelta(days=90), datetime.now(), True)\n",
    "print(pretty_json(orders))"
   ]
  },
  {
   "cell_type": "code",
   "execution_count": null,
   "metadata": {},
   "outputs": [],
   "source": [
    "# cancel all orders\n",
    "for i in range(len(orders)):\n",
    "    degiro.delete_order(orders[i][\"orderId\"])\n",
    "    time.sleep(1)"
   ]
  }
 ],
 "metadata": {
  "kernelspec": {
   "display_name": "Python 3",
   "language": "python",
   "name": "python3"
  },
  "language_info": {
   "codemirror_mode": {
    "name": "ipython",
    "version": 3
   },
   "file_extension": ".py",
   "mimetype": "text/x-python",
   "name": "python",
   "nbconvert_exporter": "python",
   "pygments_lexer": "ipython3",
   "version": "3.8.6"
  }
 },
 "nbformat": 4,
 "nbformat_minor": 4
}
