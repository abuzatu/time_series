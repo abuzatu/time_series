{
 "cells": [
  {
   "cell_type": "markdown",
   "metadata": {},
   "source": [
    "# Calculating the gains from trading US stocks on Revolut\n",
    "\n",
    "Stock is the quanty of stock changed in the trade:\n",
    "* positive: stock is bought\n",
    "* negative: stock is sold\n",
    "\n",
    "Cash is the amount of USD changed in the trade:\n",
    "* positive: stock is sold\n",
    "* negative: stock is bought\n",
    "\n",
    "Stock and cash have opposite sign in a given trade"
   ]
  },
  {
   "cell_type": "code",
   "execution_count": null,
   "metadata": {},
   "outputs": [],
   "source": [
    "from utils import *\n",
    "\n",
    "%load_ext autoreload\n",
    "%autoreload 2"
   ]
  },
  {
   "cell_type": "code",
   "execution_count": null,
   "metadata": {},
   "outputs": [],
   "source": [
    "logging.basicConfig(level=logging.INFO)"
   ]
  },
  {
   "cell_type": "markdown",
   "metadata": {},
   "source": [
    "# List of trades"
   ]
  },
  {
   "cell_type": "code",
   "execution_count": null,
   "metadata": {},
   "outputs": [],
   "source": [
    "df_trade = pd.concat(\n",
    "    [\n",
    "        get_df_trade(\"2020\"),\n",
    "        get_df_trade(\"2021\"),\n",
    "    ],\n",
    "    axis = 0,\n",
    ")\n",
    "    \n",
    "df_trade"
   ]
  },
  {
   "cell_type": "code",
   "execution_count": null,
   "metadata": {},
   "outputs": [],
   "source": [
    "df1=df_trade[df_trade.ticker==\"ZM\"]\n",
    "df1=df1[df1.action==\"B\"]\n",
    "df1"
   ]
  },
  {
   "cell_type": "code",
   "execution_count": null,
   "metadata": {},
   "outputs": [],
   "source": [
    "df1.sum()"
   ]
  },
  {
   "cell_type": "code",
   "execution_count": null,
   "metadata": {},
   "outputs": [],
   "source": [
    "df1.dtypes"
   ]
  },
  {
   "cell_type": "code",
   "execution_count": null,
   "metadata": {},
   "outputs": [],
   "source": []
  },
  {
   "cell_type": "code",
   "execution_count": null,
   "metadata": {},
   "outputs": [],
   "source": []
  },
  {
   "cell_type": "code",
   "execution_count": null,
   "metadata": {},
   "outputs": [],
   "source": []
  },
  {
   "cell_type": "code",
   "execution_count": null,
   "metadata": {},
   "outputs": [],
   "source": []
  },
  {
   "cell_type": "code",
   "execution_count": null,
   "metadata": {},
   "outputs": [],
   "source": []
  },
  {
   "cell_type": "code",
   "execution_count": null,
   "metadata": {},
   "outputs": [],
   "source": [
    "df_trade.loc[0:20]"
   ]
  },
  {
   "cell_type": "code",
   "execution_count": null,
   "metadata": {},
   "outputs": [],
   "source": [
    "df = df_trade.copy()\n",
    "#df = df[df.ticker == \"NCLH\"]\n",
    "# df = df[df.date < \"2021-02\"]\n",
    "df"
   ]
  },
  {
   "cell_type": "code",
   "execution_count": null,
   "metadata": {},
   "outputs": [],
   "source": [
    "for i in range(len(df)):\n",
    "    row = df.iloc[i]\n",
    "    if row[\"action\"] == \"B\":\n",
    "        continue\n",
    "    # only rows with sales remain\n",
    "    # now for a given sale, take if from the previous buys until there is nothing left\n",
    "    stock_to_sell = abs(row[\"stock\"])\n",
    "    cash = row[\"cash\"]\n",
    "    ticker = row[\"ticker\"]\n",
    "    logging.debug(f\"i={i}, stock_to_sell={stock_to_sell}\")\n",
    "    # now you do an action until there is nothing left, so a while loop\n",
    "    nparray_stock_left = df[\"stock_left\"].values\n",
    "    nparray_price = df[\"price_with_fees\"].values\n",
    "    nparray_realised_gain = df[\"realised_gain\"].values\n",
    "    nparray_ticker = df[\"ticker\"].values\n",
    "    list_stock_sold_here = []\n",
    "    list_price_sold_here = []\n",
    "    list_cost_sold_here = []\n",
    "    for j, stock_left in enumerate(nparray_stock_left):\n",
    "        if nparray_ticker[j] != ticker:\n",
    "            continue\n",
    "        logging.debug(f\"j={j}, stock_left={stock_left}\")\n",
    "        if np.isnan(stock_left):\n",
    "            logging.debug(f\"Skipping j={j} as NaN, as it is a buy\")\n",
    "        elif stock_left < 0:\n",
    "            raise RuntimeError(f\"stock_left is negative for j={j} stock_left={stock_left}\")\n",
    "        elif stock_left == 0:\n",
    "            continue\n",
    "        # we reach now cells with no zero values, all the cells with zero should be gone\n",
    "        elif stock_to_sell <= stock_left:\n",
    "            stock_sold_here = stock_to_sell\n",
    "            list_stock_sold_here.append(stock_sold_here)\n",
    "            price_sold_here = nparray_price[j]\n",
    "            list_price_sold_here.append(price_sold_here)\n",
    "            cost_sold_here = stock_sold_here * price_sold_here\n",
    "            list_cost_sold_here.append(cost_sold_here)\n",
    "            nparray_stock_left[j] = stock_left - stock_to_sell\n",
    "            stock_to_sell = 0.0\n",
    "            break\n",
    "        else:\n",
    "            # stock_to_sell is larger than the stock_left in this cell\n",
    "            # so we sell this entire cell\n",
    "            stock_sold_here = stock_left\n",
    "            list_stock_sold_here.append(stock_sold_here)\n",
    "            price_sold_here = nparray_price[j]\n",
    "            list_price_sold_here.append(price_sold_here)\n",
    "            cost_sold_here = stock_sold_here * price_sold_here\n",
    "            list_cost_sold_here.append(cost_sold_here)\n",
    "            nparray_stock_left[j] = 0 \n",
    "            stock_to_sell = stock_to_sell - stock_left\n",
    "    logging.debug(f\"i={i}\")\n",
    "    logging.debug(f\"nparray_stock_left={nparray_stock_left}\")\n",
    "    logging.debug(f\"list_stock_sold_here={list_stock_sold_here}\")\n",
    "    logging.debug(f\"list_price_sold_here={list_price_sold_here}\")\n",
    "    logging.debug(f\"list_cost_sold_here={list_cost_sold_here}\")\n",
    "    total_cost = sum(list_cost_sold_here)\n",
    "    logging.debug(f\"total_cost={total_cost}\")\n",
    "    realised_gain = cash - total_cost\n",
    "    logging.debug(f\"realised_gain={realised_gain}\")\n",
    "    nparray_realised_gain[i] = realised_gain\n",
    "    df[\"stock_left\"] = nparray_stock_left\n",
    "    df[\"realised_gain\"] = nparray_realised_gain\n",
    "df"
   ]
  },
  {
   "cell_type": "code",
   "execution_count": null,
   "metadata": {},
   "outputs": [],
   "source": [
    "df2 = df.copy()\n",
    "# df2 = df[df.ticker == \"ZM\"]\n",
    "df2[\"stock_left_cost\"] = df2[\"stock_left\"] * df2[\"price_with_fees\"]\n",
    "df2[\"stock_price_variation\"] = 100* (1 - df2[\"price\"] / df2[\"price_with_fees\"])\n",
    "df2"
   ]
  },
  {
   "cell_type": "code",
   "execution_count": null,
   "metadata": {},
   "outputs": [],
   "source": [
    "ticker = \"SPCE\""
   ]
  },
  {
   "cell_type": "code",
   "execution_count": null,
   "metadata": {},
   "outputs": [],
   "source": [
    "df2[df2.ticker==ticker].stock_left.sum()"
   ]
  },
  {
   "cell_type": "code",
   "execution_count": null,
   "metadata": {},
   "outputs": [],
   "source": [
    "df2[df2.ticker==ticker].stock_left_cost.sum()"
   ]
  },
  {
   "cell_type": "code",
   "execution_count": null,
   "metadata": {},
   "outputs": [],
   "source": [
    "df2[df2.ticker==ticker].stock_left_cost.sum()/df2[df2.ticker==ticker].stock_left.sum()"
   ]
  },
  {
   "cell_type": "code",
   "execution_count": null,
   "metadata": {},
   "outputs": [],
   "source": [
    "0.12549843113773107/0.00050403"
   ]
  },
  {
   "cell_type": "code",
   "execution_count": null,
   "metadata": {},
   "outputs": [],
   "source": [
    "0.13/0.00050403"
   ]
  },
  {
   "cell_type": "code",
   "execution_count": null,
   "metadata": {},
   "outputs": [],
   "source": [
    "list(df2[\"stock\"].values)"
   ]
  },
  {
   "cell_type": "code",
   "execution_count": null,
   "metadata": {},
   "outputs": [],
   "source": [
    "df.loc[728][\"stock\"]"
   ]
  },
  {
   "cell_type": "code",
   "execution_count": null,
   "metadata": {},
   "outputs": [],
   "source": [
    "df2[df2.ticker==\"ZM\"].stock_left.sum()"
   ]
  },
  {
   "cell_type": "code",
   "execution_count": null,
   "metadata": {},
   "outputs": [],
   "source": [
    "208.000000*27.100000"
   ]
  },
  {
   "cell_type": "code",
   "execution_count": null,
   "metadata": {},
   "outputs": [],
   "source": [
    "df2[df2.ticker==\"ZM\"].stock_left_cost.sum()"
   ]
  },
  {
   "cell_type": "code",
   "execution_count": null,
   "metadata": {},
   "outputs": [],
   "source": [
    "df2[df2.ticker==\"ZM\"].realised_gain.sum()"
   ]
  },
  {
   "cell_type": "code",
   "execution_count": null,
   "metadata": {},
   "outputs": [],
   "source": [
    "df[df.ticker==\"NIO\"].realised_gain.sum()"
   ]
  },
  {
   "cell_type": "code",
   "execution_count": null,
   "metadata": {},
   "outputs": [],
   "source": [
    "df[df.ticker==\"NIO\"].stock_left.sum()"
   ]
  },
  {
   "cell_type": "code",
   "execution_count": null,
   "metadata": {},
   "outputs": [],
   "source": [
    "df.realised_gain.sum()"
   ]
  },
  {
   "cell_type": "code",
   "execution_count": null,
   "metadata": {},
   "outputs": [],
   "source": [
    "df.stock_left.sum()"
   ]
  },
  {
   "cell_type": "markdown",
   "metadata": {},
   "source": [
    "# Sum for each ticker together"
   ]
  },
  {
   "cell_type": "code",
   "execution_count": null,
   "metadata": {},
   "outputs": [],
   "source": [
    "df_sum = get_df_sum(df2)\n",
    "df_sum"
   ]
  },
  {
   "cell_type": "code",
   "execution_count": null,
   "metadata": {},
   "outputs": [],
   "source": [
    "df_sum[df_sum.stock_left > 0].sort_index()"
   ]
  },
  {
   "cell_type": "code",
   "execution_count": null,
   "metadata": {},
   "outputs": [],
   "source": [
    "df_sum[\"realised_gain\"].sum()"
   ]
  },
  {
   "cell_type": "markdown",
   "metadata": {},
   "source": [
    "# Conclusion\n",
    "\n",
    "A realised loss of 119.67 euro was obtained at Revolut in calendar year 2020."
   ]
  }
 ],
 "metadata": {
  "kernelspec": {
   "display_name": "Python 3",
   "language": "python",
   "name": "python3"
  },
  "language_info": {
   "codemirror_mode": {
    "name": "ipython",
    "version": 3
   },
   "file_extension": ".py",
   "mimetype": "text/x-python",
   "name": "python",
   "nbconvert_exporter": "python",
   "pygments_lexer": "ipython3",
   "version": "3.8.6"
  }
 },
 "nbformat": 4,
 "nbformat_minor": 4
}
