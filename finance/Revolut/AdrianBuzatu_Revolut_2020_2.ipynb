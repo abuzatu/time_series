{
 "cells": [
  {
   "cell_type": "code",
   "execution_count": null,
   "metadata": {},
   "outputs": [],
   "source": [
    "import numpy as np\n",
    "import pandas as pd\n",
    "import matplotlib.pyplot as plt"
   ]
  },
  {
   "cell_type": "code",
   "execution_count": null,
   "metadata": {},
   "outputs": [],
   "source": [
    "input_file_name = \"/Users/abuzatu/Work/data/finance/stocks/Revolut/Revolut_trades_2020.txt\"\n",
    "input_file_name_end = \"/Users/abuzatu/Work/data/finance/stocks/Revolut/Revolut_trades_2020_end.txt\"\n",
    "input_file_name_deposits = \"/Users/abuzatu/Work/data/finance/stocks/Revolut/Revolut_trades_2020_deposits.txt\""
   ]
  },
  {
   "cell_type": "code",
   "execution_count": null,
   "metadata": {},
   "outputs": [],
   "source": [
    "def read_file(input_file_name):\n",
    "    file = open(input_file_name, \"r\")\n",
    "    lines = file.readlines()\n",
    "    for line in lines:\n",
    "        line = line.rstrip()\n",
    "        # print(line)\n",
    "        list_el = line.split()\n",
    "        if len(list_el) != 5:\n",
    "            print(list_el)\n",
    "        stock = float(list_el[2])\n",
    "        price = float(list_el[3])\n",
    "        cash = float(list_el[4])\n",
    "        if ((stock * price) + cash) > 0.01:\n",
    "            print(list_el)\n",
    "        if ((stock * price) * cash) > 0:\n",
    "            print(list_el)\n",
    "        \n",
    "# read_file(input_file_name)"
   ]
  },
  {
   "cell_type": "code",
   "execution_count": null,
   "metadata": {},
   "outputs": [],
   "source": [
    "def get_date(x):\n",
    "    list_el = x.split(\"/\")\n",
    "    return pd.to_datetime(f\"2020-{list_el[0]}-{list_el[1]}\")\n",
    "\n",
    "def change_date(df):  \n",
    "    df[\"date\"] = df.date.map(lambda x: get_date(x))\n",
    "    df.set_index(\"date\", inplace = True)\n",
    "    return df"
   ]
  },
  {
   "cell_type": "markdown",
   "metadata": {},
   "source": [
    "# Deposits"
   ]
  },
  {
   "cell_type": "code",
   "execution_count": null,
   "metadata": {},
   "outputs": [],
   "source": [
    "df_deposit = pd.read_csv(input_file_name_deposits, delimiter=\" \")\n",
    "df_deposit"
   ]
  },
  {
   "cell_type": "code",
   "execution_count": null,
   "metadata": {},
   "outputs": [],
   "source": [
    "df_deposit = change_date(df_deposit)\n",
    "df_deposit"
   ]
  },
  {
   "cell_type": "code",
   "execution_count": null,
   "metadata": {},
   "outputs": [],
   "source": [
    "df_deposit.deposit.sum()"
   ]
  },
  {
   "cell_type": "markdown",
   "metadata": {},
   "source": [
    "# Trades"
   ]
  },
  {
   "cell_type": "code",
   "execution_count": null,
   "metadata": {},
   "outputs": [],
   "source": [
    "df = pd.read_csv(input_file_name, delimiter=\" \")\n",
    "df"
   ]
  },
  {
   "cell_type": "code",
   "execution_count": null,
   "metadata": {},
   "outputs": [],
   "source": [
    "# check\n",
    "df[\"multiply\"] = df[\"stock\"] * df[\"cash\"]\n",
    "df[df[\"multiply\"] > 0.0]"
   ]
  },
  {
   "cell_type": "code",
   "execution_count": null,
   "metadata": {},
   "outputs": [],
   "source": [
    "# the value cash should be used, as it takes into account also the fees paid for the trade\n",
    "# for the first few months I paid 1 euro per trade, plus the fee from SEC of 0.01$ per trade\n",
    "df[\"net\"] = (df[\"stock\"] * df[\"price\"]) + df[\"cash\"]\n",
    "df.sort_values(by=\"net\")"
   ]
  },
  {
   "cell_type": "code",
   "execution_count": null,
   "metadata": {},
   "outputs": [],
   "source": [
    "# maybe so much used in fees\n",
    "df.net.sum()"
   ]
  },
  {
   "cell_type": "code",
   "execution_count": null,
   "metadata": {},
   "outputs": [],
   "source": [
    "df.drop([\"multiply\", \"net\"], axis = 1, inplace = True)"
   ]
  },
  {
   "cell_type": "code",
   "execution_count": null,
   "metadata": {},
   "outputs": [],
   "source": [
    "df.head(2)"
   ]
  },
  {
   "cell_type": "code",
   "execution_count": null,
   "metadata": {},
   "outputs": [],
   "source": [
    "df = change_date(df)\n",
    "df"
   ]
  },
  {
   "cell_type": "code",
   "execution_count": null,
   "metadata": {},
   "outputs": [],
   "source": [
    "df.index[0]"
   ]
  },
  {
   "cell_type": "code",
   "execution_count": null,
   "metadata": {},
   "outputs": [],
   "source": [
    "df[\"counter\"] = 1\n",
    "df"
   ]
  },
  {
   "cell_type": "code",
   "execution_count": null,
   "metadata": {},
   "outputs": [],
   "source": [
    "# group by ticker\n",
    "df1 = df.groupby(\"ticker\").agg(\"sum\")\n",
    "df1.drop([\"price\"], axis = 1, inplace = True)\n",
    "df1[\"stock\"] = df1[\"stock\"].map(lambda x: round(x, 6))\n",
    "df1"
   ]
  },
  {
   "cell_type": "code",
   "execution_count": null,
   "metadata": {},
   "outputs": [],
   "source": [
    "# 39 shares traded\n",
    "len(df1.index.unique())"
   ]
  },
  {
   "cell_type": "code",
   "execution_count": null,
   "metadata": {},
   "outputs": [],
   "source": [
    "df_AAPL = df[df.ticker == \"AAPL\"]\n",
    "df_AAPL"
   ]
  },
  {
   "cell_type": "code",
   "execution_count": null,
   "metadata": {},
   "outputs": [],
   "source": [
    "df_AAPL.iloc[0:7]"
   ]
  },
  {
   "cell_type": "code",
   "execution_count": null,
   "metadata": {},
   "outputs": [],
   "source": [
    "df_AAPL.iloc[0:7].cash.sum()"
   ]
  },
  {
   "cell_type": "code",
   "execution_count": null,
   "metadata": {},
   "outputs": [],
   "source": [
    "df_AAPL.iloc[0:7].stock.sum()"
   ]
  },
  {
   "cell_type": "code",
   "execution_count": null,
   "metadata": {},
   "outputs": [],
   "source": [
    "df_TSLA = df[df.ticker == \"TSLA\"]\n",
    "df_TSLA[0:100]"
   ]
  },
  {
   "cell_type": "code",
   "execution_count": null,
   "metadata": {},
   "outputs": [],
   "source": [
    "df_TSLA.cash.sum()"
   ]
  },
  {
   "cell_type": "code",
   "execution_count": null,
   "metadata": {},
   "outputs": [],
   "source": [
    "df_TSLA.stock.sum()"
   ]
  },
  {
   "cell_type": "code",
   "execution_count": null,
   "metadata": {},
   "outputs": [],
   "source": [
    "df_9 = df[df.ticker == \"MRNA\"]\n",
    "df_9"
   ]
  },
  {
   "cell_type": "code",
   "execution_count": null,
   "metadata": {},
   "outputs": [],
   "source": [
    "df_9.cash.sum()"
   ]
  },
  {
   "cell_type": "code",
   "execution_count": null,
   "metadata": {},
   "outputs": [],
   "source": [
    "df1.loc[\"ENPH\"]"
   ]
  },
  {
   "cell_type": "code",
   "execution_count": null,
   "metadata": {},
   "outputs": [],
   "source": [
    "df1.cash.sum()"
   ]
  },
  {
   "cell_type": "markdown",
   "metadata": {},
   "source": [
    "# Stocks at end of period"
   ]
  },
  {
   "cell_type": "code",
   "execution_count": null,
   "metadata": {},
   "outputs": [],
   "source": [
    "df_end = pd.read_csv(input_file_name_end, delimiter=\" \")\n",
    "df_end"
   ]
  },
  {
   "cell_type": "code",
   "execution_count": null,
   "metadata": {},
   "outputs": [],
   "source": [
    "df_end[\"value_end\"] = df_end[\"stock_end\"] * df_end[\"price_end\"]\n",
    "df_end"
   ]
  },
  {
   "cell_type": "code",
   "execution_count": null,
   "metadata": {},
   "outputs": [],
   "source": [
    "df_end.value_end.sum()"
   ]
  },
  {
   "cell_type": "code",
   "execution_count": null,
   "metadata": {},
   "outputs": [],
   "source": [
    "df_end.total_cost.sum()"
   ]
  },
  {
   "cell_type": "code",
   "execution_count": null,
   "metadata": {},
   "outputs": [],
   "source": [
    "len(df1)"
   ]
  },
  {
   "cell_type": "code",
   "execution_count": null,
   "metadata": {},
   "outputs": [],
   "source": [
    "len(df_end)"
   ]
  },
  {
   "cell_type": "code",
   "execution_count": null,
   "metadata": {},
   "outputs": [],
   "source": [
    "df_end"
   ]
  },
  {
   "cell_type": "code",
   "execution_count": null,
   "metadata": {},
   "outputs": [],
   "source": [
    "df2 = df_end.merge(df1, on = \"ticker\", how = \"outer\")\n",
    "df2"
   ]
  },
  {
   "cell_type": "code",
   "execution_count": null,
   "metadata": {},
   "outputs": [],
   "source": [
    "# fill NaN falues with zero\n",
    "df2.fillna(0.0, inplace = True)\n",
    "df2"
   ]
  },
  {
   "cell_type": "markdown",
   "metadata": {},
   "source": [
    "As expected, the values in the stock column are identifical to those in the stock_end, since we add the trades of 2020, which are from the beginning of trading at Revolut to the end. But let's also check explicitely that it is the same for all"
   ]
  },
  {
   "cell_type": "code",
   "execution_count": null,
   "metadata": {},
   "outputs": [],
   "source": [
    "# There should be nothing here\n",
    "df2[df2[\"stock_end\"] - df2[\"stock\"] > 0.001]"
   ]
  },
  {
   "cell_type": "code",
   "execution_count": null,
   "metadata": {},
   "outputs": [],
   "source": [
    "df2.head(3)"
   ]
  },
  {
   "cell_type": "code",
   "execution_count": null,
   "metadata": {},
   "outputs": [],
   "source": [
    "df2[\"real_total_cost\"] = - df2[\"cash\"]\n",
    "df2"
   ]
  },
  {
   "cell_type": "markdown",
   "metadata": {},
   "source": [
    "Stocks still had shown at `stock_end` each at average `unit_cost`, with a `total_cost`, and a the `price_end` produce a `value_end`, where `value_end-total_cost` produces the unrealised gain on the stock\n",
    "\n",
    "The real total gain "
   ]
  },
  {
   "cell_type": "code",
   "execution_count": null,
   "metadata": {},
   "outputs": [],
   "source": [
    "df2[\"unrealised_gain\"] = df2[\"value_end\"] - df2[\"total_cost\"]\n",
    "df2[\"total_gain\"] = df2[\"value_end\"] - df2[\"real_total_cost\"]\n",
    "df2[\"realised_gain\"] = df2[\"total_gain\"] - df2[\"unrealised_gain\"]\n",
    "df2[\"realised_gain2\"] = - df2[\"real_total_cost\"] + df2[\"total_cost\"]\n",
    "# df2[\"realised_gain\"] = df2[\"value_end\"] + df2[\"cash\"]\n",
    "df2.head(3)"
   ]
  },
  {
   "cell_type": "code",
   "execution_count": null,
   "metadata": {},
   "outputs": [],
   "source": []
  },
  {
   "cell_type": "code",
   "execution_count": null,
   "metadata": {},
   "outputs": [],
   "source": []
  },
  {
   "cell_type": "code",
   "execution_count": null,
   "metadata": {},
   "outputs": [],
   "source": [
    "# for each stock, calculate the value the stock has + the cash I spent on the stock\n",
    "# to see if overall I am in positive or negative with this stock\n",
    "df2[\"final\"] = df2[\"value_end\"] + df2[\"cash\"]\n",
    "# final2 uses the direct cost of buying, not the losses already made in the stock like final does\n",
    "df2[\"final2\"] = df2[\"total_cost\"] + df2[\"cash\"]\n",
    "df2[\"final2\"] = df2[\"final2\"].map(lambda x: round(x, 6))\n",
    "df2"
   ]
  },
  {
   "cell_type": "code",
   "execution_count": null,
   "metadata": {},
   "outputs": [],
   "source": [
    "# sort by final\n",
    "df2.sort_values(by=\"final2\", inplace = True)\n",
    "df2"
   ]
  },
  {
   "cell_type": "code",
   "execution_count": null,
   "metadata": {},
   "outputs": [],
   "source": [
    "df2.final.sum()"
   ]
  },
  {
   "cell_type": "code",
   "execution_count": null,
   "metadata": {},
   "outputs": [],
   "source": [
    "df2.final2.sum()"
   ]
  },
  {
   "cell_type": "code",
   "execution_count": null,
   "metadata": {},
   "outputs": [],
   "source": [
    "df2.realised_gain.sum()"
   ]
  },
  {
   "cell_type": "code",
   "execution_count": null,
   "metadata": {},
   "outputs": [],
   "source": [
    "df2.realised_gain2.sum()"
   ]
  },
  {
   "cell_type": "code",
   "execution_count": null,
   "metadata": {},
   "outputs": [],
   "source": [
    "df2.total_gain.sum()"
   ]
  },
  {
   "cell_type": "code",
   "execution_count": null,
   "metadata": {},
   "outputs": [],
   "source": [
    "df2.unrealised_gain.sum()"
   ]
  },
  {
   "cell_type": "code",
   "execution_count": null,
   "metadata": {},
   "outputs": [],
   "source": [
    "df_deposit.deposit.sum()"
   ]
  },
  {
   "cell_type": "code",
   "execution_count": null,
   "metadata": {},
   "outputs": [],
   "source": [
    "df2.value_end.sum()"
   ]
  },
  {
   "cell_type": "code",
   "execution_count": null,
   "metadata": {},
   "outputs": [],
   "source": [
    "df2.cash.sum()"
   ]
  },
  {
   "cell_type": "code",
   "execution_count": null,
   "metadata": {},
   "outputs": [],
   "source": [
    "df2.total_cost.sum()"
   ]
  },
  {
   "cell_type": "code",
   "execution_count": null,
   "metadata": {},
   "outputs": [],
   "source": [
    "df2.value_end.sum() - df_deposit.deposit.sum()"
   ]
  },
  {
   "cell_type": "code",
   "execution_count": null,
   "metadata": {},
   "outputs": [],
   "source": [
    "df2.total_cost.sum() - df_deposit.deposit.sum()"
   ]
  },
  {
   "cell_type": "markdown",
   "metadata": {},
   "source": [
    "# Conclusion\n",
    "\n",
    "A realised loss of 96.60 euro was obtained at Revolut in calendar year 2020."
   ]
  }
 ],
 "metadata": {
  "kernelspec": {
   "display_name": "Python 3",
   "language": "python",
   "name": "python3"
  },
  "language_info": {
   "codemirror_mode": {
    "name": "ipython",
    "version": 3
   },
   "file_extension": ".py",
   "mimetype": "text/x-python",
   "name": "python",
   "nbconvert_exporter": "python",
   "pygments_lexer": "ipython3",
   "version": "3.8.6"
  }
 },
 "nbformat": 4,
 "nbformat_minor": 4
}
