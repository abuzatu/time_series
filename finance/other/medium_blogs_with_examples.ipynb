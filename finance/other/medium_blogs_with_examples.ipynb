{
 "cells": [
  {
   "cell_type": "markdown",
   "metadata": {},
   "source": [
    "# Articles with resources about the stock market predictions"
   ]
  },
  {
   "cell_type": "markdown",
   "metadata": {},
   "source": [
    "# Matthew Leung\n",
    "\n",
    "https://iwasnothing.medium.com/\n",
    "\n",
    "* Medium, Time Series Prediction (feat. Introduction of Julia) https://medium.com/analytics-vidhya/time-series-prediction-feat-introduction-of-julia-78ed6897910c\n",
    "\n",
    "* Medium, using Julia, Use Oscillator of RSI to predict Stock Return (accuracy over 70%!), https://iwasnothing.medium.com/use-oscillator-of-rsi-in-machine-learning-prediction-of-stock-return-8de6b9543315\n",
    "\n",
    "* Medium, Serverless trading robot, https://iwasnothing.medium.com/serverless-tradingbot-bfe8a82c7018\n",
    "\n",
    "* Medium, Use correlation to predict the market index, https://medium.com/analytics-vidhya/use-correlation-to-predict-market-index-dc16136bd28c"
   ]
  }
 ],
 "metadata": {
  "kernelspec": {
   "display_name": "Python 3",
   "language": "python",
   "name": "python3"
  },
  "language_info": {
   "codemirror_mode": {
    "name": "ipython",
    "version": 3
   },
   "file_extension": ".py",
   "mimetype": "text/x-python",
   "name": "python",
   "nbconvert_exporter": "python",
   "pygments_lexer": "ipython3",
   "version": "3.8.6"
  }
 },
 "nbformat": 4,
 "nbformat_minor": 4
}
