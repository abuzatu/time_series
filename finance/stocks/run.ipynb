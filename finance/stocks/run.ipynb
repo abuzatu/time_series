{
 "cells": [
  {
   "cell_type": "code",
   "execution_count": null,
   "metadata": {},
   "outputs": [],
   "source": [
    "import pandas as pd\n",
    "import yfinance as yf\n",
    "import matplotlib.pyplot as plt\n",
    "\n",
    "import utils\n",
    "\n",
    "%load_ext autoreload\n",
    "%autoreload 2"
   ]
  },
  {
   "cell_type": "code",
   "execution_count": null,
   "metadata": {},
   "outputs": [],
   "source": [
    "LOCALIZE_US_STOCK_MARKET = \"America/New_York\"\n",
    "LOCALIZE_UTC = \"UTC\"\n",
    "LOCALIZE_LOCAL = \"Europe/Berlin\""
   ]
  },
  {
   "cell_type": "code",
   "execution_count": null,
   "metadata": {},
   "outputs": [],
   "source": [
    "INPUT_FOLDER_NAME = \".\"\n",
    "input_folder_name_news = f\"{INPUT_FOLDER_NAME}/news\""
   ]
  },
  {
   "cell_type": "code",
   "execution_count": null,
   "metadata": {},
   "outputs": [],
   "source": [
    "stock_ticker = \"SPCE\"\n",
    "stock_ticker"
   ]
  },
  {
   "cell_type": "code",
   "execution_count": null,
   "metadata": {},
   "outputs": [],
   "source": [
    "pd.Timestamp.now()"
   ]
  },
  {
   "cell_type": "code",
   "execution_count": null,
   "metadata": {},
   "outputs": [],
   "source": [
    "input_file_name_news = f\"{input_folder_name_news}/{stock_ticker}.txt\"\n",
    "input_file_name_news"
   ]
  },
  {
   "cell_type": "code",
   "execution_count": null,
   "metadata": {},
   "outputs": [],
   "source": [
    "# give the times in local time\n",
    "# datetime_start = pd.Timestamp(\"2021-07-09 00:00:00\").tz_localize(LOCALIZE_US_STOCK_MARKET).tz_convert(LOCALIZE_LOCAL).tz_localize(None).to_pydatetime()\n",
    "datetime_end = pd.Timestamp.now()\n",
    "datetime_start = datetime_end - pd.Timedelta(4, \"w\")\n",
    "period = None\n",
    "interval = \"30m\"\n",
    "add_outside_trading_hours = True # keep pre-market and after hours\n",
    "auto_adjust = True # Adjust all OHLC (Open/High/Low/Close prices) automatically\n",
    "add_dividends_and_stock_splits = True # dividends and stock splits\n",
    "        \n",
    "ticker = yf.Ticker(stock_ticker)\n",
    "\n",
    "print(f\"ticker={ticker}\")\n",
    "print(f\"datetime_start={datetime_start}, {type(datetime_start)}\")\n",
    "print(f\"datetime_end={datetime_end}, {type(datetime_start)}\")\n",
    "\n",
    "\n",
    "df_ = utils.read_data(stock_ticker,\n",
    "                   period,\n",
    "                   datetime_start,\n",
    "                   datetime_end,\n",
    "                   interval,\n",
    "                   add_outside_trading_hours,\n",
    "                   add_dividends_and_stock_splits,\n",
    "                   auto_adjust)\n",
    "df_"
   ]
  },
  {
   "cell_type": "code",
   "execution_count": null,
   "metadata": {},
   "outputs": [],
   "source": [
    "plt.plot(df_.index, df_.Close)"
   ]
  },
  {
   "cell_type": "code",
   "execution_count": null,
   "metadata": {},
   "outputs": [],
   "source": [
    "df_news_ = utils.get_df_news(input_file_name_news, df_)\n",
    "df_news_"
   ]
  },
  {
   "cell_type": "code",
   "execution_count": null,
   "metadata": {},
   "outputs": [],
   "source": [
    "if True:\n",
    "    s_s = \"2021-08-01 04:00:00\"\n",
    "    s_e = \"2021-08-15 00:00:00\"\n",
    "    s = pd.to_datetime(s_s).tz_localize(LOCALIZE_US_STOCK_MARKET)\n",
    "    e = pd.to_datetime(s_e).tz_localize(LOCALIZE_US_STOCK_MARKET)\n",
    "    df = df_[(df_.index >= s) & (df_.index < e)]\n",
    "    df_news = df_news_[(df_news_.index >= s) & (df_news_.index < e)]\n",
    "else:\n",
    "    df = df_.copy()\n",
    "    df_news = df_news_.copy()"
   ]
  },
  {
   "cell_type": "code",
   "execution_count": null,
   "metadata": {},
   "outputs": [],
   "source": [
    "show_pre = False\n",
    "show_after = False\n",
    "final_plot = utils.plot_interactive(df, df_news = df_news, show_pre = show_pre, show_after = show_after)\n",
    "final_plot.opts(xaxis = \"bottom\", title = f\"Stock price of {stock_ticker}\", show_legend = False)"
   ]
  },
  {
   "cell_type": "code",
   "execution_count": null,
   "metadata": {},
   "outputs": [],
   "source": [
    "show_pre = True\n",
    "show_after = True\n",
    "final_plot = utils.plot_interactive(df, df_news = df_news, show_pre = show_pre, show_after = show_after)\n",
    "final_plot.opts(xaxis = \"bottom\", title = f\"Stock price of {stock_ticker}\", show_legend = False)"
   ]
  },
  {
   "cell_type": "code",
   "execution_count": null,
   "metadata": {},
   "outputs": [],
   "source": []
  },
  {
   "cell_type": "code",
   "execution_count": null,
   "metadata": {},
   "outputs": [],
   "source": []
  }
 ],
 "metadata": {
  "kernelspec": {
   "display_name": "Python 3",
   "language": "python",
   "name": "python3"
  },
  "language_info": {
   "codemirror_mode": {
    "name": "ipython",
    "version": 3
   },
   "file_extension": ".py",
   "mimetype": "text/x-python",
   "name": "python",
   "nbconvert_exporter": "python",
   "pygments_lexer": "ipython3",
   "version": "3.8.6"
  }
 },
 "nbformat": 4,
 "nbformat_minor": 4
}
