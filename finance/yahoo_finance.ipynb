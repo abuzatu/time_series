{
 "cells": [
  {
   "cell_type": "markdown",
   "metadata": {},
   "source": [
    "# Analysing stock market prices from Yahoo Finance data\n",
    "\n",
    "https://medium.com/analytics-vidhya/trading-dashboard-with-yfinance-python-56fa471f881d\n",
    "\n",
    "https://pypi.org/project/yfinance/\n",
    "\n",
    "https://hvplot.holoviz.org/"
   ]
  },
  {
   "cell_type": "code",
   "execution_count": null,
   "metadata": {},
   "outputs": [],
   "source": [
    "import numpy as np\n",
    "import pandas as pd\n",
    "import matplotlib.pyplot as plt\n",
    "from matplotlib.dates import DateFormatter\n",
    "from matplotlib.ticker import MultipleLocator, FormatStrFormatter, AutoMinorLocator\n",
    "import datetime\n",
    "import yfinance as yf\n",
    "import hvplot.pandas"
   ]
  },
  {
   "cell_type": "code",
   "execution_count": null,
   "metadata": {},
   "outputs": [],
   "source": [
    "INPUT_NEWS_FOLDER_NAME = \"/Users/abuzatu/Work/data/finance/stocks\"\n",
    "\n",
    "# choose the company, e.g. ticker SPCE for the company Virgin Galactic\n",
    "STOCK_TICKER = \"SPCE\"\n",
    "STOCK_NAME = \"Virgin Galactic\"\n",
    "\n",
    "LOCALIZE_US_STOCK_MARKET = \"America/New_York\"\n",
    "DATETIME_TODAY = pd.to_datetime(str(datetime.date.today())).tz_localize(LOCALIZE_US_STOCK_MARKET)\n",
    "DATETIME_TOMORROW = DATETIME_TODAY + pd.Timedelta(9, \"h\") + pd.Timedelta(1, \"d\")\n",
    "\n",
    "# set the time frame of interest and the interval\n",
    "if True:\n",
    "    DATE_INITIAL_DATA = None\n",
    "    DATE_FINAL_DATA   = None\n",
    "    DATE_INITIAL_PLOT = None\n",
    "    DATE_FINAL_PLOT   = None\n",
    "elif True:\n",
    "    STRING_DATE_INITIAL_DATA = \"2020-12-22 09:20:00\"\n",
    "    STRING_DATE_FINAL_DATA   = \"2020-12-22 23:59:59\"\n",
    "    STRING_DATE_INITIAL_PLOT = STRING_DATE_INITIAL_DATA\n",
    "    STRING_DATE_FINAL_PLOT   = STRING_DATE_FINAL_DATA \n",
    "    # \n",
    "    DATE_INITIAL_DATA =  pd.to_datetime(STRING_DATE_INITIAL_DATA).tz_localize(LOCALIZE_US_STOCK_MARKET)\n",
    "    DATE_FINAL_DATA =  pd.to_datetime(STRING_DATE_FINAL_DATA).tz_localize(LOCALIZE_US_STOCK_MARKET)\n",
    "    DATE_INITIAL_PLOT =  pd.to_datetime(STRING_DATE_INITIAL_PLOT).tz_localize(LOCALIZE_US_STOCK_MARKET)\n",
    "    DATE_FINAL_PLOT =  pd.to_datetime(STRING_DATE_FINAL_PLOT).tz_localize(LOCALIZE_US_STOCK_MARKET)\n",
    "\n",
    "# 1d - for all historical data\n",
    "# 1h - for the last 730 days (~ 2 years)\n",
    "# 30m, 15m, 5m, 2m - for the last 60 days (~ 2 months)\n",
    "# 1m - for the last 7 days\n",
    "INTERVAL = \"1h\" # # 1m (minute) works only for the previous week from the current moment\n",
    "DO_PLOT_NEWS = True\n",
    "if INTERVAL == \"1d\":\n",
    "    DATETIME = \"Date\"\n",
    "    MULTIPLY_WINDOW = 1\n",
    "    INTERVAL_NUMBER_SHORT = 0\n",
    "    NB_DAYS_LOOK_BACK = 730 + 365 # 730\n",
    "elif INTERVAL == \"1h\":\n",
    "    DATETIME = \"Date\"\n",
    "    INTERVAL_NUMBER_SHORT = 0.5\n",
    "    MULTIPLY_WINDOW = 7 # one trading day has 7 trading hour intervals\n",
    "    NB_DAYS_LOOK_BACK = 730\n",
    "elif INTERVAL == \"30m\" or INTERVAL == \"15m\" or INTERVAL == \"5m\" or INTERVAL == \"2m\" or INTERVAL == \"1m\":\n",
    "    DATETIME = \"Datetime\"\n",
    "    INTERVAL_NUMBER_SHORT = 0.0\n",
    "    if INTERVAL == \"30m\":\n",
    "        MULTIPLY_WINDOW = 7 * 2 - 1 # one trading day has 7 trading hour intervals, but last hour only half hour\n",
    "        NB_DAYS_LOOK_BACK = 60\n",
    "    elif INTERVAL == \"15m\":\n",
    "        MULTIPLY_WINDOW = 7 * 4 - 2 # one trading day has 7 trading hour intervals, but last hour only half hour\n",
    "        NB_DAYS_LOOK_BACK = 60\n",
    "    elif INTERVAL == \"5m\":\n",
    "        MULTIPLY_WINDOW = 7 * 12 - 6 # one trading day has 7 trading hour intervals, but last hour only half hour\n",
    "        NB_DAYS_LOOK_BACK = 60\n",
    "    elif INTERVAL == \"2m\":\n",
    "        MULTIPLY_WINDOW = 7 * 30 - 15 # one trading day has 7 trading hour intervals, but last hour only half hour\n",
    "        NB_DAYS_LOOK_BACK = 60\n",
    "    elif INTERVAL == \"1m\":\n",
    "        MULTIPLY_WINDOW = 7 * 60 - 30 # one trading day has 7 trading hour intervals, but last hour only half hour\n",
    "        NB_DAYS_LOOK_BACK = 1\n",
    "        DO_PLOT_NEWS = False\n",
    "    else:\n",
    "        raise RuntimeError(f\"INTERVAL={INTERVAL} is not well defined!\")    \n",
    "else:\n",
    "    raise RuntimeError(f\"INTERVAL={INTERVAL} is not well defined!\")\n",
    "    \n",
    "if DATE_FINAL_DATA is None:\n",
    "    DATE_FINAL_DATA = DATETIME_TOMORROW\n",
    "    DATE_INITIAL_DATA = DATE_FINAL_DATA - pd.Timedelta(NB_DAYS_LOOK_BACK, \"d\")\n",
    "    DATE_FINAL_PLOT = DATE_FINAL_DATA\n",
    "    DATE_INITIAL_PLOT = DATE_INITIAL_DATA\n",
    "    \n",
    "INTERVAL_NUMBER = int(INTERVAL[0:-1])\n",
    "INTERVAL_UNIT = INTERVAL[-1:]\n",
    "\n",
    "# number of days in simple moving averages (SMA)\n",
    "SHORT_WINDOW = 21 * MULTIPLY_WINDOW # 50\n",
    "MEDIUM_WINDOW = 55 * MULTIPLY_WINDOW # 100\n",
    "LONG_WINDOW = 200 * MULTIPLY_WINDOW"
   ]
  },
  {
   "cell_type": "code",
   "execution_count": null,
   "metadata": {},
   "outputs": [],
   "source": [
    "DATETIME_TODAY"
   ]
  },
  {
   "cell_type": "code",
   "execution_count": null,
   "metadata": {},
   "outputs": [],
   "source": [
    "DATE_INITIAL_DATA"
   ]
  },
  {
   "cell_type": "code",
   "execution_count": null,
   "metadata": {},
   "outputs": [],
   "source": [
    "DATE_FINAL_DATA"
   ]
  },
  {
   "cell_type": "code",
   "execution_count": null,
   "metadata": {},
   "outputs": [],
   "source": [
    "INTERVAL_NUMBER"
   ]
  },
  {
   "cell_type": "code",
   "execution_count": null,
   "metadata": {},
   "outputs": [],
   "source": [
    "INTERVAL_UNIT"
   ]
  },
  {
   "cell_type": "code",
   "execution_count": null,
   "metadata": {},
   "outputs": [],
   "source": [
    "# create the ticker for the desired company\n",
    "ticker = yf.Ticker(STOCK_TICKER)\n",
    "ticker"
   ]
  },
  {
   "cell_type": "code",
   "execution_count": null,
   "metadata": {},
   "outputs": [],
   "source": [
    "# df_original = ticker.history(period = \"max\")\n",
    "df_original = ticker.history(start = DATE_INITIAL_DATA, end = DATE_FINAL_DATA, interval = INTERVAL)\n",
    "df_original[0:15]"
   ]
  },
  {
   "cell_type": "code",
   "execution_count": null,
   "metadata": {},
   "outputs": [],
   "source": [
    "df_original[-50:]"
   ]
  },
  {
   "cell_type": "code",
   "execution_count": null,
   "metadata": {},
   "outputs": [],
   "source": [
    "# For the 1h interval, there is a bug as it returns a date without the time, so we need to add by hand\n",
    "# There are 7 intervals for every day, sometimes fewer if there is a short day\n",
    "# The stock market usually starts at 9:30 am and ends at 5 pm.\n",
    "# so the last interval has only 30 minutes.\n",
    "df = df_original.reset_index()"
   ]
  },
  {
   "cell_type": "code",
   "execution_count": null,
   "metadata": {},
   "outputs": [],
   "source": [
    "def update_df_1d(dt):\n",
    "    # this is for one day interval\n",
    "    dt = df[DATETIME]\n",
    "    date = None\n",
    "    list_datetime_start = []\n",
    "    list_datetime_end = []\n",
    "    for i in range(len(df)):\n",
    "        datetime_start = dt[i].tz_localize(LOCALIZE_US_STOCK_MARKET) + pd.Timedelta(9.5, unit = \"h\")\n",
    "        datetime_end = datetime_start + pd.Timedelta(6.5, unit = \"h\") # there are 6.5 trading hours\n",
    "        # print(f\"i={i}, counter={counter}, datetime_start={datetime_start}, datetime_end={datetime_end}\")\n",
    "        list_datetime_start.append(datetime_start)\n",
    "        list_datetime_end.append(datetime_end)\n",
    "    df[\"datetime_start\"] = list_datetime_start\n",
    "    df[\"datetime_end\"] = list_datetime_end"
   ]
  },
  {
   "cell_type": "code",
   "execution_count": null,
   "metadata": {},
   "outputs": [],
   "source": [
    "def update_df_1h(dt):\n",
    "    # this is for one hour interval\n",
    "    dt = df[DATETIME]\n",
    "    date = None\n",
    "    list_datetime_start = []\n",
    "    list_datetime_end = []\n",
    "    for i in range(len(df)):\n",
    "        dti = dt[i].tz_localize(LOCALIZE_US_STOCK_MARKET)\n",
    "        dti = dti + pd.Timedelta(8.5, unit = \"h\")\n",
    "        if dti != date:\n",
    "            date = dti\n",
    "            counter = 0\n",
    "            datetime_start = date\n",
    "            new_date = False\n",
    "        # increase another hour\n",
    "        counter += 1\n",
    "        interval = INTERVAL_NUMBER\n",
    "        if counter == 7:\n",
    "            interval = INTERVAL_NUMBER_SHORT\n",
    "        datetime_start = datetime_start + pd.Timedelta(INTERVAL_NUMBER, unit = INTERVAL_UNIT)\n",
    "        datetime_end = datetime_start + pd.Timedelta(interval, unit = INTERVAL_UNIT)\n",
    "        # print(f\"i={i}, counter={counter}, datetime_start={datetime_start}, datetime_end={datetime_end}\")\n",
    "        list_datetime_start.append(datetime_start)\n",
    "        list_datetime_end.append(datetime_end)\n",
    "    df[\"datetime_start\"] = list_datetime_start\n",
    "    df[\"datetime_end\"] = list_datetime_end"
   ]
  },
  {
   "cell_type": "code",
   "execution_count": null,
   "metadata": {},
   "outputs": [],
   "source": [
    "def update_df_min(df):\n",
    "    # this is for N minutes interval\n",
    "    dt = df[DATETIME]\n",
    "    date = None\n",
    "    list_datetime_start = []\n",
    "    list_datetime_end = []\n",
    "    for i in range(len(df)):\n",
    "        datetime_start = dt[i]\n",
    "        datetime_end = datetime_start + pd.Timedelta(INTERVAL_NUMBER, unit = INTERVAL_UNIT) \n",
    "        # print(f\"i={i}, counter={counter}, datetime_start={datetime_start}, datetime_end={datetime_end}\")\n",
    "        list_datetime_start.append(datetime_start)\n",
    "        list_datetime_end.append(datetime_end)\n",
    "    df[\"datetime_start\"] = list_datetime_start\n",
    "    df[\"datetime_end\"] = list_datetime_end"
   ]
  },
  {
   "cell_type": "code",
   "execution_count": null,
   "metadata": {},
   "outputs": [],
   "source": [
    "if INTERVAL == \"1d\":\n",
    "    update_df_1d(df)\n",
    "elif INTERVAL == \"1h\":\n",
    "    update_df_1h(df)\n",
    "elif INTERVAL.endswith(\"m\"):\n",
    "    update_df_min(df)\n",
    "else:\n",
    "    raise RuntimeError(f\"INTERVAL={INTERVAL} not known!\")\n",
    "df.head()"
   ]
  },
  {
   "cell_type": "code",
   "execution_count": null,
   "metadata": {},
   "outputs": [],
   "source": [
    "df.tail()"
   ]
  },
  {
   "cell_type": "code",
   "execution_count": null,
   "metadata": {},
   "outputs": [],
   "source": [
    "df.datetime_end[0]"
   ]
  },
  {
   "cell_type": "code",
   "execution_count": null,
   "metadata": {},
   "outputs": [],
   "source": [
    "df.datetime_end[0].tz"
   ]
  },
  {
   "cell_type": "code",
   "execution_count": null,
   "metadata": {},
   "outputs": [],
   "source": [
    "df"
   ]
  },
  {
   "cell_type": "code",
   "execution_count": null,
   "metadata": {},
   "outputs": [],
   "source": [
    "# keep only the close datetime and price\n",
    "MY_DATETIME = \"datetime_end\"\n",
    "df = df[[MY_DATETIME, \"Open\", \"Close\", \"Volume\"]].set_index(MY_DATETIME)\n",
    "df"
   ]
  },
  {
   "cell_type": "code",
   "execution_count": null,
   "metadata": {},
   "outputs": [],
   "source": [
    "# calculate moving averages for various time windows\n",
    "df[\"SMA_S\"] = df.Close.rolling(window = SHORT_WINDOW).mean()\n",
    "df[\"SMA_M\"] = df.Close.rolling(window = MEDIUM_WINDOW).mean()\n",
    "df[\"SMA_L\"] = df.Close.rolling(window = LONG_WINDOW).mean()\n",
    "df"
   ]
  },
  {
   "cell_type": "code",
   "execution_count": null,
   "metadata": {},
   "outputs": [],
   "source": [
    "# let's create a column called signal initially with all values at 0\n",
    "# this columns informs us when to buy or to sell\n",
    "# the rule of thumb is that when the short term SMA goes above\n",
    "# the long term SME the stock will continue to grow further (bullish sign)\n",
    "# so we should buy; the opposite if it goes below\n",
    "df[\"Signal_S_L\"] = 0.0\n",
    "df[\"Signal_S_M\"] = 0.0\n",
    "df"
   ]
  },
  {
   "cell_type": "code",
   "execution_count": null,
   "metadata": {},
   "outputs": [],
   "source": [
    "# fill the signal column with 1.0 only in the places SMA_S above SMA_L\n",
    "# and 0.0 remains elsewhere, so where SMA_S < SMA_L\n",
    "df.loc[df.SMA_S > df.SMA_L, \"Signal_S_L\"] = 1.0\n",
    "df.loc[df.SMA_S > df.SMA_M, \"Signal_S_M\"] = 1.0\n",
    "df"
   ]
  },
  {
   "cell_type": "code",
   "execution_count": null,
   "metadata": {},
   "outputs": [],
   "source": [
    "df.Signal_S_L.value_counts()"
   ]
  },
  {
   "cell_type": "code",
   "execution_count": null,
   "metadata": {},
   "outputs": [],
   "source": [
    "df.Signal_S_M.value_counts()"
   ]
  },
  {
   "cell_type": "code",
   "execution_count": null,
   "metadata": {},
   "outputs": [],
   "source": [
    "# another syntax possible\n",
    "df[\"Signal_S_M_2\"] = np.where(df.SMA_S > df.SMA_M, 1.0, 0.0)\n",
    "df"
   ]
  },
  {
   "cell_type": "code",
   "execution_count": null,
   "metadata": {},
   "outputs": [],
   "source": [
    "df.Signal_S_M.value_counts()"
   ]
  },
  {
   "cell_type": "code",
   "execution_count": null,
   "metadata": {},
   "outputs": [],
   "source": [
    "# calculate the points in time when a position should be taken\n",
    "# meaning when the signal changes value\n",
    "df[\"Action_S_L\"] = df[\"Signal_S_L\"].diff()\n",
    "df[\"Action_S_M\"] = df[\"Signal_S_M\"].diff()\n",
    "df"
   ]
  },
  {
   "cell_type": "code",
   "execution_count": null,
   "metadata": {},
   "outputs": [],
   "source": [
    "# create a static plot with matplotlib\n",
    "# price at close\n",
    "# moving averages\n",
    "# predictions of when to buy or sell\n",
    "# my note: the predictor is not very good, as lagging the big moves\n",
    "# but at east predictor Action_S_M is betterthan Action_S_L\n",
    "fig, ax =  plt.subplots(1, 1, figsize = (12, 9))\n",
    "ax.plot(df.Close, color = \"lightgray\", label = \"Close\")\n",
    "ax.plot(df.SMA_S, color = \"skyblue\", label = \"SMA_S\")\n",
    "ax.plot(df.SMA_M, color = \"dodgerblue\", label = \"SMA_M\")\n",
    "ax.plot(df.SMA_L, color = \"darkblue\", label = \"SMA_L\")\n",
    "#ax.plot(df.index, df.Signal, color = \"darkgreen\", label = \"Signal\")\n",
    "#ax.plot(df.index, df.Action, color = \"violet\", label = \"Action\")\n",
    "# plot markers on the plot for the points where one has to sell or buy\n",
    "# https://matplotlib.org/3.2.1/api/_as_gen/matplotlib.pyplot.plot.html\n",
    "# https://www.w3schools.com/python/matplotlib_markers.asp\n",
    "if False:\n",
    "    df_buy = df[df[\"Action_S_L\"] == 1.0]\n",
    "    plt.plot(df_buy.index, df_buy.Close, \"Dg\", label = \"S_L Buy signal\")\n",
    "    df_sell = df[df[\"Action_S_L\"] == -1.0]\n",
    "    plt.plot(df_sell.index, df_sell.Close, \"Dr\", label = \"S_L Sell signal\")\n",
    "if True:\n",
    "    df_buy = df[df[\"Action_S_M\"] == 1.0]\n",
    "    plt.plot(df_buy.index, df_buy.Close, \"og\", label = \"S_M Buy signal\")\n",
    "    df_sell = df[df[\"Action_S_M\"] == -1.0]\n",
    "    plt.plot(df_sell.index, df_sell.Close, \"or\", label = \"S_M Sell signal\")\n",
    "#\n",
    "plt.legend()\n",
    "plt.title(f\"Stock price for {STOCK_TICKER} ({STOCK_NAME})\", fontsize = 18)\n",
    "# plt.xticks(rotation=\"vertical\")\n",
    "# date_form = DateFormatter(\"%H:%M:%S\")\n",
    "date_form = DateFormatter(\"%Y-%m-%d\")\n",
    "# date_form = DateFormatter(\"%m-%d\")\n",
    "ax.xaxis.set_major_formatter(date_form)\n",
    "#ax.set_xticks(rotation='vertical')\n",
    "ax.tick_params(axis = \"x\", labelsize = 18, labelrotation = 90)\n",
    "plt.ylabel(\"Stock price [USD]\", fontsize = 18)\n",
    "plt.xlim(DATE_INITIAL_PLOT, DATE_FINAL_PLOT)\n",
    "# plt.ylim(23.78, 35.82)"
   ]
  },
  {
   "cell_type": "code",
   "execution_count": null,
   "metadata": {},
   "outputs": [],
   "source": [
    "# create data frame with news\n",
    "input_news_file_name = f\"{INPUT_NEWS_FOLDER_NAME}/{STOCK_TICKER}.txt\"\n",
    "try:\n",
    "    f = open(input_news_file_name)\n",
    "    lines = f.readlines()\n",
    "    counter = 0\n",
    "    list_dict_news = []\n",
    "    for line in lines:\n",
    "        line = line.rstrip()\n",
    "        if line == \"\":\n",
    "            continue\n",
    "        # print(line)\n",
    "        if counter%3 == 0:\n",
    "            string_datetime = line\n",
    "        if counter%3 == 1:\n",
    "            text_short = line\n",
    "        if counter%3 == 2:\n",
    "            text_long = line\n",
    "            # now the piece of news if finished\n",
    "            datetime_end = pd.to_datetime(string_datetime + \" 09:30:00\").tz_localize(LOCALIZE_US_STOCK_MARKET)\n",
    "            # find the numerical index in the df of the row whose datetime index is the closest to a given datetime\n",
    "            i = np.argmin(np.abs(df.index - datetime_end))\n",
    "            value_news = df.Close[i]\n",
    "            list_dict_news.append(\n",
    "                {\n",
    "                    \"datetime_end\": datetime_end,\n",
    "                    \"text_short\": text_short,\n",
    "                    \"text_long\": text_long,\n",
    "                    \"stock_price\": value_news,\n",
    "                }\n",
    "            )\n",
    "        counter += 1\n",
    "    df_news = pd.DataFrame(list_dict_news).set_index(\"datetime_end\")\n",
    "except IOError:\n",
    "    print(f\"File {input_news_file_name} not accessible.\")\n",
    "finally:\n",
    "    f.close()\n",
    "df_news"
   ]
  },
  {
   "cell_type": "code",
   "execution_count": null,
   "metadata": {},
   "outputs": [],
   "source": [
    "# df_news.datetime_end[0].tz"
   ]
  },
  {
   "cell_type": "code",
   "execution_count": null,
   "metadata": {},
   "outputs": [],
   "source": [
    "DATE_INITIAL_PLOT"
   ]
  },
  {
   "cell_type": "code",
   "execution_count": null,
   "metadata": {},
   "outputs": [],
   "source": [
    "df.index[0]"
   ]
  },
  {
   "cell_type": "code",
   "execution_count": null,
   "metadata": {},
   "outputs": [],
   "source": [
    "np.min(df.Close.values)"
   ]
  },
  {
   "cell_type": "code",
   "execution_count": null,
   "metadata": {},
   "outputs": [],
   "source": [
    "np.max(df.Volume.values)"
   ]
  },
  {
   "cell_type": "code",
   "execution_count": null,
   "metadata": {},
   "outputs": [],
   "source": [
    "1.1 * np.max(df.Volume.values) / np.min(df.Close.values)"
   ]
  },
  {
   "cell_type": "code",
   "execution_count": null,
   "metadata": {},
   "outputs": [],
   "source": [
    "df[\"Volume2\"] = df[\"Volume\"] / (1.1 * np.max(df.Volume.values) / np.min(df.Close.values))"
   ]
  },
  {
   "cell_type": "code",
   "execution_count": null,
   "metadata": {},
   "outputs": [],
   "source": [
    "# plot on an interactive plot using hvplot\n",
    "# https://hvplot.holoviz.org/user_guide/Customization.html\n",
    "# https://coderzcolumn.com/tutorials/data-science/how-to-convert-static-pandas-plot-matplotlib-to-interactive-hvplot#2\n",
    "\n",
    "# close\n",
    "security_close = df[\"Close\"].hvplot(\n",
    "    line_color = \"lightgray\",\n",
    "    ylabel = \"Stock price [USD]\",\n",
    "    xlabel = \"Date\",\n",
    "    width = 800,\n",
    "    height = 350,\n",
    "    # xlim = (DATE_INITIAL_PLOT, DATE_FINAL_PLOT),\n",
    "    # ylim = (100, 135),\n",
    "    # hover_cols = [\"datetime_end\"],\n",
    "    grid = True,\n",
    ")\n",
    "\n",
    "security_close_dots = df[\"Close\"].hvplot.scatter(\n",
    "    line_color = \"darkgray\",\n",
    "    fill_color = \"darkgray\",\n",
    "    ylabel = \"Stock price [USD]\",\n",
    "    xlabel = \"Date\",\n",
    "    width = 800,\n",
    "    height = 400,\n",
    "    # xlim = (DATE_INITIAL_PLOT, DATE_FINAL_PLOT),\n",
    "    # ylim = (25.45, 27.5),\n",
    "    # hover_cols = [\"datetime_end\"],\n",
    "    grid = True,\n",
    ")\n",
    "\n",
    "security_open_dots = df[\"Open\"].hvplot.scatter(\n",
    "    line_color = \"orange\",\n",
    "    fill_color = \"orange\",\n",
    "    ylabel = \"Stock price [USD]\",\n",
    "    xlabel = \"Date\",\n",
    "    width = 800,\n",
    "    height = 400,\n",
    "    # xlim = (DATE_INITIAL_PLOT, DATE_FINAL_PLOT),\n",
    "    # ylim = (25.45, 27.5),\n",
    "    # hover_cols = [\"datetime_end\"],\n",
    "    grid = True,\n",
    ")\n",
    "\n",
    "# Visualize moving averages\n",
    "SMA_S = df[\"SMA_S\"].hvplot(\n",
    "    line_color = \"skyblue\",\n",
    "    hover = False,\n",
    ")\n",
    "SMA_M = df[\"SMA_M\"].hvplot(\n",
    "    line_color = \"dodgerblue\",\n",
    "    hover = False,\n",
    ")\n",
    "SMA_L = df[\"SMA_L\"].hvplot(\n",
    "    line_color = \"darkblue\",\n",
    "    hover = False,\n",
    ")\n",
    "\n",
    "# actions\n",
    "sell = df_sell[\"Close\"].hvplot.scatter(\n",
    "    color = \"red\",\n",
    "    legend = False,\n",
    ")\n",
    "\n",
    "buy = df_buy[\"Close\"].hvplot.scatter(\n",
    "    color = \"green\",\n",
    "    legend = False,\n",
    ")\n",
    "\n",
    "# actions\n",
    "news = df_news.hvplot.scatter(\n",
    "    x = \"datetime_end\",\n",
    "    y = \"stock_price\",\n",
    "    color = \"violet\",\n",
    "    # hover_cols = \"all\",\n",
    "    hover_cols = [\"text_short\"],\n",
    "    legend = True,\n",
    ")\n",
    "\n",
    "# overlay plots\n",
    "# final_plot = security_close * security_close_dots * security_open_dots * SMA_S * SMA_M * SMA_L * sell * buy * news\n",
    "# final_plot = security_close *  SMA_S * SMA_M * SMA_L * sell * buy # * news\n",
    "# final_plot = security_close *  SMA_S * SMA_M * SMA_L * sell * buy * news\n",
    "final_plot = security_close * SMA_S * SMA_M * SMA_L\n",
    "if DO_PLOT_NEWS:\n",
    "    final_plot = final_plot * news\n",
    "# final_plot = security_close * news"
   ]
  },
  {
   "cell_type": "code",
   "execution_count": null,
   "metadata": {},
   "outputs": [],
   "source": [
    "volume = df.hvplot.bar(\n",
    "    x = \"datetime_end\",\n",
    "    y = \"Volume\",\n",
    "    # color = \"orange\",\n",
    "    line_color = \"orange\",\n",
    "    fill_color = \"orange\",\n",
    ")\n",
    "\n",
    "volume2 = df[\"Volume\"].hvplot.bar(\n",
    "    # color = \"orange\",\n",
    "    line_color = \"orange\",\n",
    "    fill_color = \"orange\",\n",
    "    width = 850,\n",
    "    height = 200,\n",
    "    \n",
    ")\n",
    "\n",
    "final_plot_2 = volume2"
   ]
  },
  {
   "cell_type": "code",
   "execution_count": null,
   "metadata": {
    "scrolled": true
   },
   "outputs": [],
   "source": [
    "final_plot.opts(xaxis = \"bottom\", title = f\"Stock price of {STOCK_TICKER} ({STOCK_NAME})\", show_legend = False) "
   ]
  },
  {
   "cell_type": "code",
   "execution_count": null,
   "metadata": {},
   "outputs": [],
   "source": [
    "final_plot_2.opts(xaxis = None, yaxis = None, title = f\"Stock volume of {STOCK_TICKER} ({STOCK_NAME})\") "
   ]
  },
  {
   "cell_type": "code",
   "execution_count": null,
   "metadata": {},
   "outputs": [],
   "source": []
  },
  {
   "cell_type": "code",
   "execution_count": null,
   "metadata": {},
   "outputs": [],
   "source": []
  },
  {
   "cell_type": "code",
   "execution_count": null,
   "metadata": {},
   "outputs": [],
   "source": []
  },
  {
   "cell_type": "code",
   "execution_count": null,
   "metadata": {},
   "outputs": [],
   "source": []
  },
  {
   "cell_type": "code",
   "execution_count": null,
   "metadata": {},
   "outputs": [],
   "source": []
  },
  {
   "cell_type": "code",
   "execution_count": null,
   "metadata": {},
   "outputs": [],
   "source": []
  }
 ],
 "metadata": {
  "kernelspec": {
   "display_name": "Python 3",
   "language": "python",
   "name": "python3"
  },
  "language_info": {
   "codemirror_mode": {
    "name": "ipython",
    "version": 3
   },
   "file_extension": ".py",
   "mimetype": "text/x-python",
   "name": "python",
   "nbconvert_exporter": "python",
   "pygments_lexer": "ipython3",
   "version": "3.9.0"
  }
 },
 "nbformat": 4,
 "nbformat_minor": 4
}
