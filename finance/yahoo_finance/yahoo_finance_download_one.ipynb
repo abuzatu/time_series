{
 "cells": [
  {
   "cell_type": "markdown",
   "metadata": {},
   "source": [
    "# Reading and analysing data from Yahoo Finance\n",
    "\n",
    "Taking the functions from utils.py, to make the code more modular."
   ]
  },
  {
   "cell_type": "code",
   "execution_count": null,
   "metadata": {},
   "outputs": [],
   "source": [
    "from utils import *\n",
    "\n",
    "%load_ext autoreload\n",
    "%autoreload 2"
   ]
  },
  {
   "cell_type": "code",
   "execution_count": null,
   "metadata": {},
   "outputs": [],
   "source": [
    "# logging level: NOTSET, DEBUG, INFO, WARNING, ERROR, CRITICAL\n",
    "logger = logging.getLogger()\n",
    "logger.setLevel(logging.INFO)"
   ]
  },
  {
   "cell_type": "code",
   "execution_count": null,
   "metadata": {},
   "outputs": [],
   "source": [
    "OUTPUT_FOLDER_NAME = \"/Users/abuzatu/Work/data/finance/stocks/processed_data\""
   ]
  },
  {
   "cell_type": "code",
   "execution_count": null,
   "metadata": {},
   "outputs": [],
   "source": [
    "ADD_OUTSIDE_TRADING_HOURS = True\n",
    "ADD_DIVIDENTS_AND_STOCK_SPLITS = True\n",
    "AUTO_ADJUST = False\n",
    "PERIOD = None\n",
    "INTERVAL = \"1m\""
   ]
  },
  {
   "cell_type": "code",
   "execution_count": null,
   "metadata": {},
   "outputs": [],
   "source": [
    "STOCK_NAME = \"Bionano Genomics\" # https://finance.yahoo.com/quote/BNGO?p=BNGO&.tsrc=fin-srch\n",
    "STOCK_TICKER = \"BNGO\""
   ]
  },
  {
   "cell_type": "code",
   "execution_count": null,
   "metadata": {},
   "outputs": [],
   "source": [
    "LIST_DATE = [\n",
    "    (\"20-12-05\", \"20-12-11\", \"1m\"),\n",
    "    (\"20-12-11\", \"20-12-18\", \"1m\"),\n",
    "    (\"20-12-18\", \"20-12-25\", \"1m\"),\n",
    "    (\"20-12-25\", \"21-01-01\", \"1m\"),\n",
    "]\n",
    "\n",
    "date_start_all = LIST_DATE[0][0]\n",
    "date_end_all = LIST_DATE[-1][-2]"
   ]
  },
  {
   "cell_type": "code",
   "execution_count": null,
   "metadata": {},
   "outputs": [],
   "source": [
    "list_df = []\n",
    "for s, e, interval in LIST_DATE:\n",
    "    STRING_DATE_INITIAL_DATA = f\"20{s} 00:00:00\"\n",
    "    STRING_DATE_FINAL_DATA   = f\"20{e} 00:00:00\"\n",
    "    date_initial_data = pd.to_datetime(STRING_DATE_INITIAL_DATA).tz_localize(LOCALIZE_US_STOCK_MARKET)\n",
    "    date_final_data = pd.to_datetime(STRING_DATE_FINAL_DATA).tz_localize(LOCALIZE_US_STOCK_MARKET)\n",
    "    list_df.append(read_data(STOCK_TICKER,\n",
    "                   PERIOD,\n",
    "                   date_initial_data,\n",
    "                   date_final_data,\n",
    "                   interval,\n",
    "                   ADD_OUTSIDE_TRADING_HOURS,\n",
    "                   ADD_DIVIDENTS_AND_STOCK_SPLITS,\n",
    "                   AUTO_ADJUST)\n",
    "                  )\n",
    "df = pd.concat(list_df, axis = 0)"
   ]
  },
  {
   "cell_type": "code",
   "execution_count": null,
   "metadata": {},
   "outputs": [],
   "source": [
    "output_file_name = f\"{OUTPUT_FOLDER_NAME}/df_{date_start_all}_{date_end_all}_aa_{STOCK_TICKER}.pickle\""
   ]
  },
  {
   "cell_type": "code",
   "execution_count": null,
   "metadata": {},
   "outputs": [],
   "source": [
    "df.to_pickle(output_file_name)"
   ]
  },
  {
   "cell_type": "code",
   "execution_count": null,
   "metadata": {},
   "outputs": [],
   "source": [
    "df = pd.read_pickle(output_file_name)\n",
    "df"
   ]
  },
  {
   "cell_type": "code",
   "execution_count": null,
   "metadata": {},
   "outputs": [],
   "source": [
    "df[df.index > pd.to_datetime(\"2020-12-29 16:00:00\").tz_localize(LOCALIZE_US_STOCK_MARKET)]"
   ]
  },
  {
   "cell_type": "code",
   "execution_count": null,
   "metadata": {},
   "outputs": [],
   "source": [
    "plt.plot(df.Close)"
   ]
  },
  {
   "cell_type": "code",
   "execution_count": null,
   "metadata": {},
   "outputs": [],
   "source": [
    "plot_static(df, STOCK_TICKER)"
   ]
  },
  {
   "cell_type": "code",
   "execution_count": null,
   "metadata": {},
   "outputs": [],
   "source": [
    "final_plot = plot_interactive(df)\n",
    "final_plot.opts(xaxis = \"bottom\", title = f\"Stock price of {STOCK_TICKER} ({STOCK_NAME})\", show_legend = False) "
   ]
  },
  {
   "cell_type": "code",
   "execution_count": null,
   "metadata": {},
   "outputs": [],
   "source": [
    "final_plot_volume = plot_interactive_volume(df)\n",
    "xaxis = None # \"bottom\"\n",
    "final_plot_volume.opts(xaxis = xaxis, yaxis = None, title = f\"Stock volume of {STOCK_TICKER} ({STOCK_NAME})\") "
   ]
  }
 ],
 "metadata": {
  "kernelspec": {
   "display_name": "Python 3",
   "language": "python",
   "name": "python3"
  },
  "language_info": {
   "codemirror_mode": {
    "name": "ipython",
    "version": 3
   },
   "file_extension": ".py",
   "mimetype": "text/x-python",
   "name": "python",
   "nbconvert_exporter": "python",
   "pygments_lexer": "ipython3",
   "version": "3.8.6"
  }
 },
 "nbformat": 4,
 "nbformat_minor": 4
}
