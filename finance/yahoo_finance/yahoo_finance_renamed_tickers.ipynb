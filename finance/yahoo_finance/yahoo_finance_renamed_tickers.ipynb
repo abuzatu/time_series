{
 "cells": [
  {
   "cell_type": "markdown",
   "metadata": {},
   "source": [
    "# Reading and analysing data from Yahoo Finance\n",
    "\n",
    "Taking the functions from utils.py, to make the code more modular.\n",
    "\n",
    "Example on \"Enveric Biosciences\". It used to have ticker AMRH, then on 2020-12-31 changed to ENVB, did a reverse stock split of 4 stocks for one new stock, then started trading normally for the last day of the year. \n",
    "\n",
    "Collect 1 minute data for 7 weeks intervals at once, for the maximum of 30 days relative to present, as per the constains of yfinance. \n",
    "\n",
    "Merge the the data frames of the two tickers and plot the stock price and volume as if it were one, in interactive plots.\n",
    "\n",
    "List of stock splits, normal or reversed: https://www.splithistory.com/amrh/"
   ]
  },
  {
   "cell_type": "code",
   "execution_count": null,
   "metadata": {},
   "outputs": [],
   "source": [
    "from utils import *\n",
    "\n",
    "%load_ext autoreload\n",
    "%autoreload 2"
   ]
  },
  {
   "cell_type": "code",
   "execution_count": null,
   "metadata": {},
   "outputs": [],
   "source": [
    "# logging level: NOTSET, DEBUG, INFO, WARNING, ERROR, CRITICAL\n",
    "logger = logging.getLogger()\n",
    "logger.setLevel(logging.INFO)"
   ]
  },
  {
   "cell_type": "code",
   "execution_count": null,
   "metadata": {},
   "outputs": [],
   "source": [
    "OUTPUT_FOLDER_NAME = \"/Users/abuzatu/Work/data/finance/stocks/processed_data\""
   ]
  },
  {
   "cell_type": "code",
   "execution_count": null,
   "metadata": {},
   "outputs": [],
   "source": [
    "ADD_OUTSIDE_TRADING_HOURS = False\n",
    "ADD_DIVIDENTS_AND_STOCK_SPLITS = False\n",
    "AUTO_ADJUST = False\n",
    "PERIOD = None\n",
    "INTERVAL = \"1m\"\n",
    "STOCK_NAME = \"Enveric Biosciences\""
   ]
  },
  {
   "cell_type": "code",
   "execution_count": null,
   "metadata": {},
   "outputs": [],
   "source": [
    "STOCK_TICKER = \"AMRH\"\n",
    "list_df = []\n",
    "for i, f in [\n",
    "    (\"20-12-04\", \"20-12-10\"),\n",
    "    (\"20-12-10\", \"20-12-17\"),\n",
    "    (\"20-12-17\", \"20-12-24\"),\n",
    "    (\"20-12-24\", \"20-12-31\"),\n",
    "]:\n",
    "    STRING_DATE_INITIAL_DATA = f\"20{i} 00:00:00\"\n",
    "    STRING_DATE_FINAL_DATA   = f\"20{f} 00:00:00\"\n",
    "    date_initial_data = pd.to_datetime(STRING_DATE_INITIAL_DATA).tz_localize(LOCALIZE_US_STOCK_MARKET)\n",
    "    date_final_data = pd.to_datetime(STRING_DATE_FINAL_DATA).tz_localize(LOCALIZE_US_STOCK_MARKET)\n",
    "    list_df.append(read_data(STOCK_TICKER,\n",
    "                   PERIOD,\n",
    "                   date_initial_data,\n",
    "                   date_final_data,\n",
    "                   INTERVAL,\n",
    "                   ADD_OUTSIDE_TRADING_HOURS,\n",
    "                   ADD_DIVIDENTS_AND_STOCK_SPLITS,\n",
    "                   AUTO_ADJUST)\n",
    "                  )\n",
    "# list_df[0]\n",
    "df_AMRH = pd.concat(list_df, axis = 0)\n",
    "df_AMRH"
   ]
  },
  {
   "cell_type": "code",
   "execution_count": null,
   "metadata": {},
   "outputs": [],
   "source": [
    "output_file_name = f\"{OUTPUT_FOLDER_NAME}/df_AMRH_20-12-04_20-12-31.pickle\"\n",
    "df_AMRH = df_AMRH.to_pickle(output_file_name)"
   ]
  },
  {
   "cell_type": "code",
   "execution_count": null,
   "metadata": {},
   "outputs": [],
   "source": [
    "df_AMRH = pd.read_pickle(output_file_name)\n",
    "df_AMRH"
   ]
  },
  {
   "cell_type": "code",
   "execution_count": null,
   "metadata": {},
   "outputs": [],
   "source": [
    "# apply the reverse split of 4 stocks -> 1 stock\n",
    "apply_split(df_AMRH, 4, 1)\n",
    "df_AMRH"
   ]
  },
  {
   "cell_type": "code",
   "execution_count": null,
   "metadata": {},
   "outputs": [],
   "source": [
    "STOCK_TICKER = \"ENVB\"\n",
    "list_df = []\n",
    "for i, f in [\n",
    "    (\"20-12-31\", \"21-01-02\"),\n",
    "]:\n",
    "    STRING_DATE_INITIAL_DATA = f\"20{i} 00:00:00\"\n",
    "    STRING_DATE_FINAL_DATA   = f\"20{f} 00:00:00\"\n",
    "    date_initial_data = pd.to_datetime(STRING_DATE_INITIAL_DATA).tz_localize(LOCALIZE_US_STOCK_MARKET)\n",
    "    date_final_data = pd.to_datetime(STRING_DATE_FINAL_DATA).tz_localize(LOCALIZE_US_STOCK_MARKET)\n",
    "    list_df.append(read_data(STOCK_TICKER,\n",
    "                   PERIOD,\n",
    "                   date_initial_data,\n",
    "                   date_final_data,\n",
    "                   INTERVAL,\n",
    "                   ADD_OUTSIDE_TRADING_HOURS,\n",
    "                   ADD_DIVIDENTS_AND_STOCK_SPLITS,\n",
    "                   AUTO_ADJUST)\n",
    "                  )\n",
    "# list_df[0]\n",
    "df_ENVB = pd.concat(list_df, axis = 0)\n",
    "df_ENVB"
   ]
  },
  {
   "cell_type": "code",
   "execution_count": null,
   "metadata": {},
   "outputs": [],
   "source": [
    "# combine the two tickers\n",
    "df = pd.concat([df_AMRH, df_ENVB], axis = 0)\n",
    "df"
   ]
  },
  {
   "cell_type": "code",
   "execution_count": null,
   "metadata": {},
   "outputs": [],
   "source": [
    "# df_AMRH[df_AMRH.index > pd.to_datetime(\"2020-12-29 16:00:00\").tz_localize(LOCALIZE_US_STOCK_MARKET )]"
   ]
  },
  {
   "cell_type": "code",
   "execution_count": null,
   "metadata": {},
   "outputs": [],
   "source": [
    "plt.plot(df.Close)"
   ]
  },
  {
   "cell_type": "code",
   "execution_count": null,
   "metadata": {},
   "outputs": [],
   "source": [
    "final_plot = plot_interactive(df)\n",
    "final_plot.opts(xaxis = \"bottom\", title = f\"Stock price of {STOCK_TICKER} ({STOCK_NAME})\", show_legend = False) "
   ]
  },
  {
   "cell_type": "code",
   "execution_count": null,
   "metadata": {},
   "outputs": [],
   "source": [
    "final_plot_volume = plot_interactive_volume(df)\n",
    "# final_plot_volume.opts(xaxis = \"bottom\", yaxis = None, title = f\"Stock volume of {STOCK_TICKER} ({STOCK_NAME})\")\n",
    "final_plot_volume.opts(xaxis = None, yaxis = None, title = f\"Stock volume of {STOCK_TICKER} ({STOCK_NAME})\") "
   ]
  }
 ],
 "metadata": {
  "kernelspec": {
   "display_name": "Python 3",
   "language": "python",
   "name": "python3"
  },
  "language_info": {
   "codemirror_mode": {
    "name": "ipython",
    "version": 3
   },
   "file_extension": ".py",
   "mimetype": "text/x-python",
   "name": "python",
   "nbconvert_exporter": "python",
   "pygments_lexer": "ipython3",
   "version": "3.8.6"
  }
 },
 "nbformat": 4,
 "nbformat_minor": 4
}
