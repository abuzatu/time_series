{
 "cells": [
  {
   "cell_type": "markdown",
   "metadata": {},
   "source": [
    "# Reading and analysing data from Yahoo Finance\n",
    "\n",
    "Taking the functions from utils.py, to make the code more modular."
   ]
  },
  {
   "cell_type": "code",
   "execution_count": null,
   "metadata": {},
   "outputs": [],
   "source": [
    "from utils import *\n",
    "\n",
    "%load_ext autoreload\n",
    "%autoreload 2"
   ]
  },
  {
   "cell_type": "code",
   "execution_count": null,
   "metadata": {},
   "outputs": [],
   "source": [
    "# logging level: NOTSET, DEBUG, INFO, WARNING, ERROR, CRITICAL\n",
    "logger = logging.getLogger()\n",
    "logger.setLevel(logging.INFO)"
   ]
  },
  {
   "cell_type": "code",
   "execution_count": null,
   "metadata": {},
   "outputs": [],
   "source": [
    "INPUT_FOLDER_NAME = \"/Users/abuzatu/Work/data/finance/stocks\"\n",
    "input_folder_name_data = f\"{INPUT_FOLDER_NAME}/processed_data/210109\"\n",
    "input_folder_name_news = f\"{INPUT_FOLDER_NAME}/news\"\n",
    "input_file_name_info = f\"{INPUT_FOLDER_NAME}/info/info.pickle\""
   ]
  },
  {
   "cell_type": "code",
   "execution_count": null,
   "metadata": {},
   "outputs": [],
   "source": [
    "list_stock_ticker = get_list_stock_ticker_in_folder(input_folder_name_data)\n",
    "#  list_stock_ticker"
   ]
  },
  {
   "cell_type": "code",
   "execution_count": null,
   "metadata": {},
   "outputs": [],
   "source": [
    "STOCK_TICKER = \"W\"\n",
    "date_start_all = get_first_day_of_stock_ticker(input_file_name_info, STOCK_TICKER)\n",
    "date_end_all = \"2021-01-10\"\n",
    "suffix = \"al\""
   ]
  },
  {
   "cell_type": "code",
   "execution_count": null,
   "metadata": {},
   "outputs": [],
   "source": [
    "input_file_name_data = f\"{input_folder_name_data}/df_{date_start_all}_{date_end_all}_{suffix}_{STOCK_TICKER}.pickle\"\n",
    "input_file_name_data"
   ]
  },
  {
   "cell_type": "code",
   "execution_count": null,
   "metadata": {},
   "outputs": [],
   "source": [
    "df__ = pd.read_pickle(input_file_name_data)\n",
    "df__"
   ]
  },
  {
   "cell_type": "code",
   "execution_count": null,
   "metadata": {},
   "outputs": [],
   "source": [
    "if False:\n",
    "    # get new data frame for today\n",
    "    PERIOD = None\n",
    "    ADD_OUTSIDE_TRADING_HOURS = True\n",
    "    ADD_DIVIDENDS_AND_STOCK_SPLITS = True\n",
    "    AUTO_ADJUST = True\n",
    "    INTERVAL = \"1m\"\n",
    "    df1 = read_data(STOCK_TICKER,\n",
    "                   PERIOD,\n",
    "                   pd.to_datetime(\"2021-01-01\").tz_localize(LOCALIZE_US_STOCK_MARKET),\n",
    "                   pd.to_datetime(\"2021-01-09\").tz_localize(LOCALIZE_US_STOCK_MARKET),\n",
    "                   INTERVAL,\n",
    "                   ADD_OUTSIDE_TRADING_HOURS,\n",
    "                   ADD_DIVIDENDS_AND_STOCK_SPLITS,\n",
    "                   AUTO_ADJUST)\n",
    "    # merge the two\n",
    "    df_ = pd.concat([df__, df1], axis = 0)\n",
    "    \n",
    "else:\n",
    "    df_ = df__.copy()\n",
    "df_.sort_index(inplace = True)\n",
    "df_ = df_[df_.Close < 1e6]"
   ]
  },
  {
   "cell_type": "code",
   "execution_count": null,
   "metadata": {},
   "outputs": [],
   "source": [
    "input_file_name_news = f\"{input_folder_name_news}/{STOCK_TICKER}.txt\"\n",
    "input_file_name_news"
   ]
  },
  {
   "cell_type": "code",
   "execution_count": null,
   "metadata": {},
   "outputs": [],
   "source": [
    "df_news_ = get_df_news(input_file_name_news, df_)\n",
    "df_news_"
   ]
  },
  {
   "cell_type": "code",
   "execution_count": null,
   "metadata": {},
   "outputs": [],
   "source": [
    "if False:\n",
    "    s_s = \"2020-12-01 00:00:00\"\n",
    "    s_e = \"2021-01-09 00:00:00\"\n",
    "    s = pd.to_datetime(s_s).tz_localize(LOCALIZE_US_STOCK_MARKET)\n",
    "    e = pd.to_datetime(s_e).tz_localize(LOCALIZE_US_STOCK_MARKET)\n",
    "    df = df_[(df_.index >= s) & (df_.index < e)]\n",
    "    df_news = df_news_[(df_news_.index >= s) & (df_news_.index < e)]\n",
    "else:\n",
    "    df = df_.copy()\n",
    "    df_news = df_news_.copy()"
   ]
  },
  {
   "cell_type": "code",
   "execution_count": null,
   "metadata": {},
   "outputs": [],
   "source": [
    "final_plot = plot_interactive(df, df_news = df_news, show_pre = True, show_after = True)\n",
    "final_plot.opts(xaxis = \"bottom\", title = f\"Stock price of {STOCK_TICKER}\", show_legend = False)"
   ]
  },
  {
   "cell_type": "code",
   "execution_count": null,
   "metadata": {},
   "outputs": [],
   "source": [
    "final_plot = plot_interactive(df, df_news = df_news, show_pre = False, show_after = False)\n",
    "final_plot.opts(xaxis = \"bottom\", title = f\"Stock price of {STOCK_TICKER}\", show_legend = False)"
   ]
  },
  {
   "cell_type": "code",
   "execution_count": null,
   "metadata": {},
   "outputs": [],
   "source": [
    "final_plot_volume = plot_interactive_volume(df)\n",
    "xaxis = None # \"bottom\"\n",
    "final_plot_volume.opts(xaxis = xaxis, title = f\"Stock volume of {STOCK_TICKER}\", show_legend = False) "
   ]
  },
  {
   "cell_type": "code",
   "execution_count": null,
   "metadata": {},
   "outputs": [],
   "source": [
    "# plot_static(df, STOCK_TICKER)"
   ]
  },
  {
   "cell_type": "code",
   "execution_count": null,
   "metadata": {},
   "outputs": [],
   "source": [
    "# plt.plot(df.Close)"
   ]
  },
  {
   "cell_type": "code",
   "execution_count": null,
   "metadata": {},
   "outputs": [],
   "source": [
    "df"
   ]
  },
  {
   "cell_type": "code",
   "execution_count": null,
   "metadata": {},
   "outputs": [],
   "source": [
    "# df[df.Close > 65]"
   ]
  },
  {
   "cell_type": "code",
   "execution_count": null,
   "metadata": {},
   "outputs": [],
   "source": [
    "df2 = df__[df__.index > pd.to_datetime(\"2021-01-01\").tz_localize(LOCALIZE_US_STOCK_MARKET)]\n",
    "df2"
   ]
  },
  {
   "cell_type": "code",
   "execution_count": null,
   "metadata": {},
   "outputs": [],
   "source": [
    "df3 = get_subset_df(df__, \"2021-01-01 00:00:00\")\n",
    "df3"
   ]
  }
 ],
 "metadata": {
  "kernelspec": {
   "display_name": "Python 3",
   "language": "python",
   "name": "python3"
  },
  "language_info": {
   "codemirror_mode": {
    "name": "ipython",
    "version": 3
   },
   "file_extension": ".py",
   "mimetype": "text/x-python",
   "name": "python",
   "nbconvert_exporter": "python",
   "pygments_lexer": "ipython3",
   "version": "3.9.0"
  }
 },
 "nbformat": 4,
 "nbformat_minor": 4
}
