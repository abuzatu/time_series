{
 "cells": [
  {
   "cell_type": "markdown",
   "metadata": {},
   "source": [
    "# Cross-validation in general \n",
    "\n",
    "https://scikit-learn.org/stable/modules/cross_validation.html\n",
    "\n",
    "Parameter estimation using grid search with cross-validation: https://scikit-learn.org/stable/auto_examples/model_selection/plot_grid_search_digits.html#sphx-glr-auto-examples-model-selection-plot-grid-search-digits-py\n",
    "\n",
    "https://scikit-learn.org/stable/modules/grid_search.html#grid-search\n",
    "\n",
    "https://scikit-learn.org/stable/auto_examples/model_selection/plot_multi_metric_evaluation.html#sphx-glr-auto-examples-model-selection-plot-multi-metric-evaluation-py\n",
    "\n",
    "# Cross-validation in time series\n",
    "\n",
    "Hyper-paramatering tuning like grid search or random search use a cross validation method where data is split into k groups. There are k trainings where k-1 samples are used in training in 1 in testing. The results are averaged out and the best model is chosen. But then only in 1 of the cases the test sample is at the end, following the natural course of learning from the past to predict the future. In the other k-1 cases, you would use some data from the future to predict the past. \n",
    "\n",
    "# Method 1\n",
    "\n",
    "A method 1 is to divide the data and steps like this. Note that if we divide in k folds, there are k-1 steps. The algorithm is also implemented with a code in a blog post [Pythonic Cross Validation on Time Series](http://francescopochetti.com/pythonic-cross-validation-time-series-pandas-scikit-learn/). The algorithm is shown below:\n",
    "1. train [1], test [2]\n",
    "2. train [1, 2], test [3]\n",
    "3. train [1, 2, 3], test [4]\n",
    "4. train [1, 2, 3, 4], test [5]\n",
    "\n",
    "This has the particularity that each new step uses more data and is expected to perfom better than the previous one. So when calculating the total figure of merit, it is best to not use the regular average, but an weighted average by how many datasets were used in the train sample, so thatmetric_average = (1 * m1 + 2 * m2 + 3 * m3 + 4 * m4)/(1+2+3+4).\n",
    "\n",
    "# Method 2\n",
    "\n",
    "Another method 2 is to divide the steps to use equal amounts of data. It is still good to train in more data than the test. Here the regular average and the weighted average give the same result. Note that if we divide in k folders, we have k-2 steps. The algorithms is:\n",
    "1. train [1, 2], test [3]\n",
    "2. train [2, 3], test [4]\n",
    "3. train [3, 4], test [5]\n",
    "\n",
    "# Method 3\n",
    "\n",
    "Another method 3 presented in this great [blog summary on robjhyndman.com](https://robjhyndman.com/hyndsight/crossvalidation/), inspired from a paper from 2010 on [A survey of cross-validation procedures for model selection](https://projecteuclid.org/euclid.ssu/1268143839). The method is the leave one out cross validation (LOOCV) adapted for the time series. The result is that of solution 1, where the time interval that forms a dataset is the minimum possible. If the observations are discrete it is one observation at a time. If the consistent time interval with counts is one hour across a year, than one interval is just a one hour interval. This is of course expected to take more time than just using method 1 with 10 folds.\n",
    "\n",
    "1. Train sample contains the data y_1, y_2, ..., y_t, where the index is the time moment or the time bin. The test sample is formed only from one data pint y_(t+1). Computed the error, sometimes called the predicted residual, e*_i = (y_i -y^hat_i), where y^hat_i is the predicted value by our model for the time moment i, and y_i is the true value (target, label) for the time i. \n",
    "2. Repeat the step 1 for all t from m to n-1, where m is the minimum number of observations needed to fit a model and n is the total amount of observations or time intervals in our data.\n",
    "3. Compute the MSE from e*_(m+1) to e*_n with the formula MSE = [1/(n-m)]*(y_i - y^hat_i)^2.\n",
    "\n",
    "\n",
    "# Give manual splittings to sklearn\n",
    "\n",
    "We can code by hand the splitting according to these algorithms, then give the list of tuple of datasets to [GridSearchCV](https://scikit-learn.org/stable/modules/generated/sklearn.model_selection.GridSearchCV.html), a This defines the `cv` object used by `GridSearchCV`. It seems the same `cv` can be given also to [RandomizedSearchCV](https://scikit-learn.org/stable/modules/generated/sklearn.model_selection.RandomizedSearchCV.html). Example from s in this [StackOverflow](https://stackoverflow.com/questions/37583263/scikit-learn-cross-validation-custom-splits-for-time-series-data):\n",
    "\n",
    "```\n",
    "[\n",
    " (split1_train_idxs, split1_test_idxs),\n",
    " (split2_train_idxs, split2_test_idxs),\n",
    " (split3_train_idxs, split3_test_idxs),\n",
    " ...\n",
    "]\n",
    "```\n",
    "for example\n",
    "```\n",
    "groups = df.groupby(df.date.dt.year).groups\n",
    "# {2012: [0, 1], 2013: [2], 2014: [3], 2015: [4, 5]}\n",
    "sorted_groups = [value for (key, value) in sorted(groups.items())] \n",
    "# [[0, 1], [2], [3], [4, 5]]\n",
    "\n",
    "cv = [(sorted_groups[i] + sorted_groups[i+1], sorted_groups[i+2])\n",
    "      for i in range(len(sorted_groups)-2)]\n",
    "```\n",
    "This looks like this\n",
    "```\n",
    "[([0, 1, 2], [3]),  # idxs of first split as (train, test) tuple\n",
    " ([2, 3], [4, 5])]  # idxs of second split as (train, test) tuple\n",
    "```\n",
    "Then you can do grid search with\n",
    "```\n",
    "GridSearchCV(estimator, param_grid, cv=cv, ...)\n",
    "```\n",
    "or\n",
    "```\n",
    "RandomizedSearchCV(estimator, param_grid, cv=cv, ...)\n",
    "```\n",
    "\n",
    "# Calculate splittings automatically in sklearn\n",
    "\n",
    "We can calculate the splittings for Method 1 automatically in sklearn using [TimeSeriesSplit](https://scikit-learn.org/stable/modules/generated/sklearn.model_selection.TimeSeriesSplit.html#sklearn.model_selection.TimeSeriesSplit). Example of code in blog [Time Series Nested Cross-Validation with scikit-learn](https://www.angioi.com/time-nested-cv-with-sklearn/) and below in page.\n",
    "\n",
    "A genearalisation of the TimeSeriesSplit is the [GroupShuffleSplit](https://scikit-learn.org/stable/modules/generated/sklearn.model_selection.GroupShuffleSplit.html#sklearn.model_selection.GroupShuffleSplit).\n",
    "\n",
    "# Visualising CV split\n",
    "\n",
    "https://scikit-learn.org/stable/auto_examples/model_selection/plot_cv_indices.html#sphx-glr-auto-examples-model-selection-plot-cv-indices-py"
   ]
  },
  {
   "cell_type": "markdown",
   "metadata": {},
   "source": [
    "# Resources \n",
    "\n",
    "Hints taken from [StackOverflow](https://stats.stackexchange.com/questions/117350/how-to-split-dataset-for-time-series-prediction/412476#412476):\n",
    "* Split into smaller datasets and check for parameter stability over time; if can be divided into geographical region, check also in those regions. I interpret it as check in subsets of the data, not just the averages across the entire data sample.\n",
    "* Akaike Information Criterion (AIC) for time series. One period ahead forcast error. \n",
    "* ARIMA would be for a dynamic model\n",
    "\n",
    "http://francescopochetti.com/pythonic-cross-validation-time-series-pandas-scikit-learn/\n",
    "\n",
    "https://robjhyndman.com/hyndsight/crossvalidation/"
   ]
  },
  {
   "cell_type": "markdown",
   "metadata": {},
   "source": [
    "# Example code for TimeSeriesSplit\n",
    "\n",
    "Taken from https://www.angioi.com/time-nested-cv-with-sklearn/"
   ]
  },
  {
   "cell_type": "code",
   "execution_count": 81,
   "metadata": {},
   "outputs": [],
   "source": [
    "import numpy as np\n",
    "import pandas as pd\n",
    "import matplotlib.pyplot as plt\n",
    "import random"
   ]
  },
  {
   "cell_type": "code",
   "execution_count": 82,
   "metadata": {},
   "outputs": [
    {
     "data": {
      "text/html": [
       "<div>\n",
       "<style scoped>\n",
       "    .dataframe tbody tr th:only-of-type {\n",
       "        vertical-align: middle;\n",
       "    }\n",
       "\n",
       "    .dataframe tbody tr th {\n",
       "        vertical-align: top;\n",
       "    }\n",
       "\n",
       "    .dataframe thead th {\n",
       "        text-align: right;\n",
       "    }\n",
       "</style>\n",
       "<table border=\"1\" class=\"dataframe\">\n",
       "  <thead>\n",
       "    <tr style=\"text-align: right;\">\n",
       "      <th></th>\n",
       "      <th>x1</th>\n",
       "    </tr>\n",
       "  </thead>\n",
       "  <tbody>\n",
       "    <tr>\n",
       "      <th>2018-01-01</th>\n",
       "      <td>1</td>\n",
       "    </tr>\n",
       "    <tr>\n",
       "      <th>2018-01-02</th>\n",
       "      <td>3</td>\n",
       "    </tr>\n",
       "    <tr>\n",
       "      <th>2018-01-03</th>\n",
       "      <td>3</td>\n",
       "    </tr>\n",
       "    <tr>\n",
       "      <th>2018-01-04</th>\n",
       "      <td>4</td>\n",
       "    </tr>\n",
       "    <tr>\n",
       "      <th>2018-01-05</th>\n",
       "      <td>1</td>\n",
       "    </tr>\n",
       "    <tr>\n",
       "      <th>...</th>\n",
       "      <td>...</td>\n",
       "    </tr>\n",
       "    <tr>\n",
       "      <th>2018-12-27</th>\n",
       "      <td>2</td>\n",
       "    </tr>\n",
       "    <tr>\n",
       "      <th>2018-12-28</th>\n",
       "      <td>1</td>\n",
       "    </tr>\n",
       "    <tr>\n",
       "      <th>2018-12-29</th>\n",
       "      <td>0</td>\n",
       "    </tr>\n",
       "    <tr>\n",
       "      <th>2018-12-30</th>\n",
       "      <td>0</td>\n",
       "    </tr>\n",
       "    <tr>\n",
       "      <th>2018-12-31</th>\n",
       "      <td>2</td>\n",
       "    </tr>\n",
       "  </tbody>\n",
       "</table>\n",
       "<p>365 rows × 1 columns</p>\n",
       "</div>"
      ],
      "text/plain": [
       "            x1\n",
       "2018-01-01   1\n",
       "2018-01-02   3\n",
       "2018-01-03   3\n",
       "2018-01-04   4\n",
       "2018-01-05   1\n",
       "...         ..\n",
       "2018-12-27   2\n",
       "2018-12-28   1\n",
       "2018-12-29   0\n",
       "2018-12-30   0\n",
       "2018-12-31   2\n",
       "\n",
       "[365 rows x 1 columns]"
      ]
     },
     "execution_count": 82,
     "metadata": {},
     "output_type": "execute_result"
    }
   ],
   "source": [
    "# generate a data frame to simulate two columns of random numbers for each day of a year\n",
    "nRows = 365\n",
    "df = pd.DataFrame(np.random.randint(0, 5, size=(nRows, 1)), \n",
    "                  columns = [\"x1\"], \n",
    "                  index = pd.date_range(\"20180101\", periods=nRows))\n",
    "df"
   ]
  },
  {
   "cell_type": "code",
   "execution_count": 83,
   "metadata": {},
   "outputs": [
    {
     "data": {
      "text/html": [
       "<div>\n",
       "<style scoped>\n",
       "    .dataframe tbody tr th:only-of-type {\n",
       "        vertical-align: middle;\n",
       "    }\n",
       "\n",
       "    .dataframe tbody tr th {\n",
       "        vertical-align: top;\n",
       "    }\n",
       "\n",
       "    .dataframe thead th {\n",
       "        text-align: right;\n",
       "    }\n",
       "</style>\n",
       "<table border=\"1\" class=\"dataframe\">\n",
       "  <thead>\n",
       "    <tr style=\"text-align: right;\">\n",
       "      <th></th>\n",
       "      <th>x1</th>\n",
       "      <th>y</th>\n",
       "    </tr>\n",
       "  </thead>\n",
       "  <tbody>\n",
       "    <tr>\n",
       "      <th>2018-01-01</th>\n",
       "      <td>1.959761</td>\n",
       "      <td>2.301392</td>\n",
       "    </tr>\n",
       "    <tr>\n",
       "      <th>2018-01-02</th>\n",
       "      <td>3.710959</td>\n",
       "      <td>3.018888</td>\n",
       "    </tr>\n",
       "    <tr>\n",
       "      <th>2018-01-03</th>\n",
       "      <td>1.064980</td>\n",
       "      <td>1.868981</td>\n",
       "    </tr>\n",
       "    <tr>\n",
       "      <th>2018-01-04</th>\n",
       "      <td>2.418963</td>\n",
       "      <td>2.452304</td>\n",
       "    </tr>\n",
       "    <tr>\n",
       "      <th>2018-01-05</th>\n",
       "      <td>-0.505510</td>\n",
       "      <td>1.347748</td>\n",
       "    </tr>\n",
       "    <tr>\n",
       "      <th>...</th>\n",
       "      <td>...</td>\n",
       "      <td>...</td>\n",
       "    </tr>\n",
       "    <tr>\n",
       "      <th>2018-12-27</th>\n",
       "      <td>2.574924</td>\n",
       "      <td>3.082455</td>\n",
       "    </tr>\n",
       "    <tr>\n",
       "      <th>2018-12-28</th>\n",
       "      <td>1.938405</td>\n",
       "      <td>2.323465</td>\n",
       "    </tr>\n",
       "    <tr>\n",
       "      <th>2018-12-29</th>\n",
       "      <td>-1.722473</td>\n",
       "      <td>-2.039858</td>\n",
       "    </tr>\n",
       "    <tr>\n",
       "      <th>2018-12-30</th>\n",
       "      <td>-1.985575</td>\n",
       "      <td>-0.833723</td>\n",
       "    </tr>\n",
       "    <tr>\n",
       "      <th>2018-12-31</th>\n",
       "      <td>3.288063</td>\n",
       "      <td>4.099696</td>\n",
       "    </tr>\n",
       "  </tbody>\n",
       "</table>\n",
       "<p>365 rows × 2 columns</p>\n",
       "</div>"
      ],
      "text/plain": [
       "                  x1         y\n",
       "2018-01-01  1.959761  2.301392\n",
       "2018-01-02  3.710959  3.018888\n",
       "2018-01-03  1.064980  1.868981\n",
       "2018-01-04  2.418963  2.452304\n",
       "2018-01-05 -0.505510  1.347748\n",
       "...              ...       ...\n",
       "2018-12-27  2.574924  3.082455\n",
       "2018-12-28  1.938405  2.323465\n",
       "2018-12-29 -1.722473 -2.039858\n",
       "2018-12-30 -1.985575 -0.833723\n",
       "2018-12-31  3.288063  4.099696\n",
       "\n",
       "[365 rows x 2 columns]"
      ]
     },
     "execution_count": 83,
     "metadata": {},
     "output_type": "execute_result"
    }
   ],
   "source": [
    "# add y as the sum of the x1 + x2 + some noise from a gauss distribution of mu=0 and sigma = 1\n",
    "mu = 0.0\n",
    "sigma = 1.0\n",
    "df[\"x1\"] = df.apply(lambda row: row[\"x1\"] + random.gauss(mu, sigma), axis = 1)\n",
    "df[\"y\"] = df.apply(lambda row: row[\"x1\"] + random.gauss(mu, sigma), axis = 1)\n",
    "df"
   ]
  },
  {
   "cell_type": "code",
   "execution_count": 84,
   "metadata": {},
   "outputs": [
    {
     "name": "stdout",
     "output_type": "stream",
     "text": [
      "                  x1         y\n",
      "2018-01-01  1.959761  2.301392\n",
      "2018-01-02  3.710959  3.018888\n",
      "2018-01-03  1.064980  1.868981\n",
      "...              ...       ...\n",
      "2018-12-29 -1.722473 -2.039858\n",
      "2018-12-30 -1.985575 -0.833723\n",
      "2018-12-31  3.288063  4.099696\n",
      "\n",
      "[365 rows x 2 columns]\n"
     ]
    }
   ],
   "source": [
    "# to plot only the first 3 rows\n",
    "with pd.option_context(\"display.max_rows\", 6):\n",
    "    print(df)"
   ]
  },
  {
   "cell_type": "code",
   "execution_count": 85,
   "metadata": {},
   "outputs": [],
   "source": [
    "# we want to prepare the nested cross validation for time series\n",
    "from sklearn.model_selection import TimeSeriesSplit\n",
    "n_splits = 3 # Number of train/cv/test folds"
   ]
  },
  {
   "cell_type": "code",
   "execution_count": 86,
   "metadata": {},
   "outputs": [
    {
     "data": {
      "text/plain": [
       "<generator object TimeSeriesSplit.split at 0x11b644350>"
      ]
     },
     "execution_count": 86,
     "metadata": {},
     "output_type": "execute_result"
    }
   ],
   "source": [
    "trainTestSplit = TimeSeriesSplit(n_splits + 1).split(df)\n",
    "trainTestSplit"
   ]
  },
  {
   "cell_type": "code",
   "execution_count": 87,
   "metadata": {},
   "outputs": [
    {
     "data": {
      "text/plain": [
       "(array([ 0,  1,  2,  3,  4,  5,  6,  7,  8,  9, 10, 11, 12, 13, 14, 15, 16,\n",
       "        17, 18, 19, 20, 21, 22, 23, 24, 25, 26, 27, 28, 29, 30, 31, 32, 33,\n",
       "        34, 35, 36, 37, 38, 39, 40, 41, 42, 43, 44, 45, 46, 47, 48, 49, 50,\n",
       "        51, 52, 53, 54, 55, 56, 57, 58, 59, 60, 61, 62, 63, 64, 65, 66, 67,\n",
       "        68, 69, 70, 71, 72]),\n",
       " array([ 73,  74,  75,  76,  77,  78,  79,  80,  81,  82,  83,  84,  85,\n",
       "         86,  87,  88,  89,  90,  91,  92,  93,  94,  95,  96,  97,  98,\n",
       "         99, 100, 101, 102, 103, 104, 105, 106, 107, 108, 109, 110, 111,\n",
       "        112, 113, 114, 115, 116, 117, 118, 119, 120, 121, 122, 123, 124,\n",
       "        125, 126, 127, 128, 129, 130, 131, 132, 133, 134, 135, 136, 137,\n",
       "        138, 139, 140, 141, 142, 143, 144, 145]))"
      ]
     },
     "execution_count": 87,
     "metadata": {},
     "output_type": "execute_result"
    }
   ],
   "source": [
    "# Skip the first fold\n",
    "# each trainTestSplit is a tuple of two arrays, one for train, one for test\n",
    "# one unit is 73 days, as 73*5 = 365\n",
    "# first has train first 73, test next 73\n",
    "next(trainTestSplit) "
   ]
  },
  {
   "cell_type": "code",
   "execution_count": 88,
   "metadata": {},
   "outputs": [
    {
     "data": {
      "text/plain": [
       "(array([  0,   1,   2,   3,   4,   5,   6,   7,   8,   9,  10,  11,  12,\n",
       "         13,  14,  15,  16,  17,  18,  19,  20,  21,  22,  23,  24,  25,\n",
       "         26,  27,  28,  29,  30,  31,  32,  33,  34,  35,  36,  37,  38,\n",
       "         39,  40,  41,  42,  43,  44,  45,  46,  47,  48,  49,  50,  51,\n",
       "         52,  53,  54,  55,  56,  57,  58,  59,  60,  61,  62,  63,  64,\n",
       "         65,  66,  67,  68,  69,  70,  71,  72,  73,  74,  75,  76,  77,\n",
       "         78,  79,  80,  81,  82,  83,  84,  85,  86,  87,  88,  89,  90,\n",
       "         91,  92,  93,  94,  95,  96,  97,  98,  99, 100, 101, 102, 103,\n",
       "        104, 105, 106, 107, 108, 109, 110, 111, 112, 113, 114, 115, 116,\n",
       "        117, 118, 119, 120, 121, 122, 123, 124, 125, 126, 127, 128, 129,\n",
       "        130, 131, 132, 133, 134, 135, 136, 137, 138, 139, 140, 141, 142,\n",
       "        143, 144, 145]),\n",
       " array([146, 147, 148, 149, 150, 151, 152, 153, 154, 155, 156, 157, 158,\n",
       "        159, 160, 161, 162, 163, 164, 165, 166, 167, 168, 169, 170, 171,\n",
       "        172, 173, 174, 175, 176, 177, 178, 179, 180, 181, 182, 183, 184,\n",
       "        185, 186, 187, 188, 189, 190, 191, 192, 193, 194, 195, 196, 197,\n",
       "        198, 199, 200, 201, 202, 203, 204, 205, 206, 207, 208, 209, 210,\n",
       "        211, 212, 213, 214, 215, 216, 217, 218]))"
      ]
     },
     "execution_count": 88,
     "metadata": {},
     "output_type": "execute_result"
    }
   ],
   "source": [
    "# second has train first 73 * 2, test next 73\n",
    "next(trainTestSplit) "
   ]
  },
  {
   "cell_type": "code",
   "execution_count": 89,
   "metadata": {},
   "outputs": [
    {
     "data": {
      "text/plain": [
       "(array([  0,   1,   2,   3,   4,   5,   6,   7,   8,   9,  10,  11,  12,\n",
       "         13,  14,  15,  16,  17,  18,  19,  20,  21,  22,  23,  24,  25,\n",
       "         26,  27,  28,  29,  30,  31,  32,  33,  34,  35,  36,  37,  38,\n",
       "         39,  40,  41,  42,  43,  44,  45,  46,  47,  48,  49,  50,  51,\n",
       "         52,  53,  54,  55,  56,  57,  58,  59,  60,  61,  62,  63,  64,\n",
       "         65,  66,  67,  68,  69,  70,  71,  72,  73,  74,  75,  76,  77,\n",
       "         78,  79,  80,  81,  82,  83,  84,  85,  86,  87,  88,  89,  90,\n",
       "         91,  92,  93,  94,  95,  96,  97,  98,  99, 100, 101, 102, 103,\n",
       "        104, 105, 106, 107, 108, 109, 110, 111, 112, 113, 114, 115, 116,\n",
       "        117, 118, 119, 120, 121, 122, 123, 124, 125, 126, 127, 128, 129,\n",
       "        130, 131, 132, 133, 134, 135, 136, 137, 138, 139, 140, 141, 142,\n",
       "        143, 144, 145, 146, 147, 148, 149, 150, 151, 152, 153, 154, 155,\n",
       "        156, 157, 158, 159, 160, 161, 162, 163, 164, 165, 166, 167, 168,\n",
       "        169, 170, 171, 172, 173, 174, 175, 176, 177, 178, 179, 180, 181,\n",
       "        182, 183, 184, 185, 186, 187, 188, 189, 190, 191, 192, 193, 194,\n",
       "        195, 196, 197, 198, 199, 200, 201, 202, 203, 204, 205, 206, 207,\n",
       "        208, 209, 210, 211, 212, 213, 214, 215, 216, 217, 218]),\n",
       " array([219, 220, 221, 222, 223, 224, 225, 226, 227, 228, 229, 230, 231,\n",
       "        232, 233, 234, 235, 236, 237, 238, 239, 240, 241, 242, 243, 244,\n",
       "        245, 246, 247, 248, 249, 250, 251, 252, 253, 254, 255, 256, 257,\n",
       "        258, 259, 260, 261, 262, 263, 264, 265, 266, 267, 268, 269, 270,\n",
       "        271, 272, 273, 274, 275, 276, 277, 278, 279, 280, 281, 282, 283,\n",
       "        284, 285, 286, 287, 288, 289, 290, 291]))"
      ]
     },
     "execution_count": 89,
     "metadata": {},
     "output_type": "execute_result"
    }
   ],
   "source": [
    "# third has train first 73 * 4, test next 73\n",
    "next(trainTestSplit) "
   ]
  },
  {
   "cell_type": "code",
   "execution_count": 90,
   "metadata": {},
   "outputs": [
    {
     "data": {
      "text/plain": [
       "(array([  0,   1,   2,   3,   4,   5,   6,   7,   8,   9,  10,  11,  12,\n",
       "         13,  14,  15,  16,  17,  18,  19,  20,  21,  22,  23,  24,  25,\n",
       "         26,  27,  28,  29,  30,  31,  32,  33,  34,  35,  36,  37,  38,\n",
       "         39,  40,  41,  42,  43,  44,  45,  46,  47,  48,  49,  50,  51,\n",
       "         52,  53,  54,  55,  56,  57,  58,  59,  60,  61,  62,  63,  64,\n",
       "         65,  66,  67,  68,  69,  70,  71,  72,  73,  74,  75,  76,  77,\n",
       "         78,  79,  80,  81,  82,  83,  84,  85,  86,  87,  88,  89,  90,\n",
       "         91,  92,  93,  94,  95,  96,  97,  98,  99, 100, 101, 102, 103,\n",
       "        104, 105, 106, 107, 108, 109, 110, 111, 112, 113, 114, 115, 116,\n",
       "        117, 118, 119, 120, 121, 122, 123, 124, 125, 126, 127, 128, 129,\n",
       "        130, 131, 132, 133, 134, 135, 136, 137, 138, 139, 140, 141, 142,\n",
       "        143, 144, 145, 146, 147, 148, 149, 150, 151, 152, 153, 154, 155,\n",
       "        156, 157, 158, 159, 160, 161, 162, 163, 164, 165, 166, 167, 168,\n",
       "        169, 170, 171, 172, 173, 174, 175, 176, 177, 178, 179, 180, 181,\n",
       "        182, 183, 184, 185, 186, 187, 188, 189, 190, 191, 192, 193, 194,\n",
       "        195, 196, 197, 198, 199, 200, 201, 202, 203, 204, 205, 206, 207,\n",
       "        208, 209, 210, 211, 212, 213, 214, 215, 216, 217, 218, 219, 220,\n",
       "        221, 222, 223, 224, 225, 226, 227, 228, 229, 230, 231, 232, 233,\n",
       "        234, 235, 236, 237, 238, 239, 240, 241, 242, 243, 244, 245, 246,\n",
       "        247, 248, 249, 250, 251, 252, 253, 254, 255, 256, 257, 258, 259,\n",
       "        260, 261, 262, 263, 264, 265, 266, 267, 268, 269, 270, 271, 272,\n",
       "        273, 274, 275, 276, 277, 278, 279, 280, 281, 282, 283, 284, 285,\n",
       "        286, 287, 288, 289, 290, 291]),\n",
       " array([292, 293, 294, 295, 296, 297, 298, 299, 300, 301, 302, 303, 304,\n",
       "        305, 306, 307, 308, 309, 310, 311, 312, 313, 314, 315, 316, 317,\n",
       "        318, 319, 320, 321, 322, 323, 324, 325, 326, 327, 328, 329, 330,\n",
       "        331, 332, 333, 334, 335, 336, 337, 338, 339, 340, 341, 342, 343,\n",
       "        344, 345, 346, 347, 348, 349, 350, 351, 352, 353, 354, 355, 356,\n",
       "        357, 358, 359, 360, 361, 362, 363, 364]))"
      ]
     },
     "execution_count": 90,
     "metadata": {},
     "output_type": "execute_result"
    }
   ],
   "source": [
    "# fourth has train first 73 * 3, test next 73\n",
    "# and that completes all the possibilities\n",
    "# we ended up with the test dataset on the same number of days as the others as 73*5=365.\n",
    "next(trainTestSplit) "
   ]
  },
  {
   "cell_type": "code",
   "execution_count": 91,
   "metadata": {},
   "outputs": [
    {
     "data": {
      "text/plain": [
       "(array([ 0,  1,  2,  3,  4,  5,  6,  7,  8,  9, 10, 11, 12, 13, 14, 15, 16,\n",
       "        17, 18, 19, 20, 21, 22, 23, 24, 25, 26, 27, 28, 29, 30, 31, 32, 33,\n",
       "        34, 35, 36, 37, 38, 39, 40, 41, 42, 43, 44, 45, 46, 47, 48, 49, 50,\n",
       "        51, 52, 53, 54, 55, 56, 57, 58, 59, 60, 61, 62, 63, 64, 65, 66, 67,\n",
       "        68, 69, 70, 71, 72]),\n",
       " array([ 73,  74,  75,  76,  77,  78,  79,  80,  81,  82,  83,  84,  85,\n",
       "         86,  87,  88,  89,  90,  91,  92,  93,  94,  95,  96,  97,  98,\n",
       "         99, 100, 101, 102, 103, 104, 105, 106, 107, 108, 109, 110, 111,\n",
       "        112, 113, 114, 115, 116, 117, 118, 119, 120, 121, 122, 123, 124,\n",
       "        125, 126, 127, 128, 129, 130, 131, 132, 133, 134, 135, 136, 137,\n",
       "        138, 139, 140, 141, 142, 143, 144, 145]))"
      ]
     },
     "execution_count": 91,
     "metadata": {},
     "output_type": "execute_result"
    }
   ],
   "source": [
    "# use .iloc to retrieve elements from the original df using the index as integers\n",
    "# and not the the data from the time series\n",
    "# and let's reinitialize the iterators\n",
    "trainTestSplit = TimeSeriesSplit(n_splits + 1).split(df)\n",
    "# skip the first fold\n",
    "next(trainTestSplit) "
   ]
  },
  {
   "cell_type": "code",
   "execution_count": 92,
   "metadata": {},
   "outputs": [
    {
     "name": "stdout",
     "output_type": "stream",
     "text": [
      "Training: 2018-01-01 -- 2018-03-14 , CV: 2018-03-15 -- 2018-05-26 , Test: 2018-05-27 -- 2018-08-07\n",
      "Training: 2018-01-01 -- 2018-05-26 , CV: 2018-05-27 -- 2018-08-07 , Test: 2018-08-08 -- 2018-10-19\n",
      "Training: 2018-01-01 -- 2018-08-07 , CV: 2018-08-08 -- 2018-10-19 , Test: 2018-10-20 -- 2018-12-31\n"
     ]
    }
   ],
   "source": [
    "# 0 is the first column for X\n",
    "# 1 is the second column for y\n",
    "trainCvSplit = []\n",
    "for trainCvIndices, testIndices in trainTestSplit:\n",
    "    # first, we split Train + CV and Test\n",
    "    X_train_CV, y_train_CV = df.iloc[trainCvIndices, 0], df.iloc[trainCvIndices, 1]\n",
    "    X_test, y_test = df.iloc[testIndices, 0], df.iloc[testIndices, 1]\n",
    "    \n",
    "    # now split Train + CV into Train and CV separately, by having CV of same length as the Test\n",
    "    testLength = len(X_test)\n",
    "    trainCvSplit.append(\n",
    "        (\n",
    "            list(range(trainCvIndices[0], trainCvIndices[-testLength])), # Train\n",
    "            list(range(trainCvIndices[-testLength], trainCvIndices[-1]+1)), # CV\n",
    "        )\n",
    "    )\n",
    "    \n",
    "    # Printing date ranges\n",
    "    print(\"Training:\"           , X_train_CV.index[0].date(), \"--\", X_train_CV.index[-testLength-1].date(),\n",
    "          \", CV:\"     , X_train_CV.index[-testLength].date(), \"--\", X_train_CV.index[-1].date(),\n",
    "          \", Test:\"                , X_test.index[0].date(), \"--\", X_test.index[-1].date())\n"
   ]
  },
  {
   "cell_type": "code",
   "execution_count": 93,
   "metadata": {},
   "outputs": [
    {
     "data": {
      "text/plain": [
       "3"
      ]
     },
     "execution_count": 93,
     "metadata": {},
     "output_type": "execute_result"
    }
   ],
   "source": [
    "# the trainCvSplit can be passed directly as a cv argument\n",
    "len(trainCvSplit)"
   ]
  },
  {
   "cell_type": "code",
   "execution_count": 94,
   "metadata": {},
   "outputs": [
    {
     "data": {
      "text/html": [
       "<div>\n",
       "<style scoped>\n",
       "    .dataframe tbody tr th:only-of-type {\n",
       "        vertical-align: middle;\n",
       "    }\n",
       "\n",
       "    .dataframe tbody tr th {\n",
       "        vertical-align: top;\n",
       "    }\n",
       "\n",
       "    .dataframe thead th {\n",
       "        text-align: right;\n",
       "    }\n",
       "</style>\n",
       "<table border=\"1\" class=\"dataframe\">\n",
       "  <thead>\n",
       "    <tr style=\"text-align: right;\">\n",
       "      <th></th>\n",
       "      <th>x1</th>\n",
       "    </tr>\n",
       "  </thead>\n",
       "  <tbody>\n",
       "    <tr>\n",
       "      <th>2018-01-01</th>\n",
       "      <td>1.959761</td>\n",
       "    </tr>\n",
       "    <tr>\n",
       "      <th>2018-01-02</th>\n",
       "      <td>3.710959</td>\n",
       "    </tr>\n",
       "    <tr>\n",
       "      <th>2018-01-03</th>\n",
       "      <td>1.064980</td>\n",
       "    </tr>\n",
       "    <tr>\n",
       "      <th>2018-01-04</th>\n",
       "      <td>2.418963</td>\n",
       "    </tr>\n",
       "    <tr>\n",
       "      <th>2018-01-05</th>\n",
       "      <td>-0.505510</td>\n",
       "    </tr>\n",
       "    <tr>\n",
       "      <th>...</th>\n",
       "      <td>...</td>\n",
       "    </tr>\n",
       "    <tr>\n",
       "      <th>2018-12-27</th>\n",
       "      <td>2.574924</td>\n",
       "    </tr>\n",
       "    <tr>\n",
       "      <th>2018-12-28</th>\n",
       "      <td>1.938405</td>\n",
       "    </tr>\n",
       "    <tr>\n",
       "      <th>2018-12-29</th>\n",
       "      <td>-1.722473</td>\n",
       "    </tr>\n",
       "    <tr>\n",
       "      <th>2018-12-30</th>\n",
       "      <td>-1.985575</td>\n",
       "    </tr>\n",
       "    <tr>\n",
       "      <th>2018-12-31</th>\n",
       "      <td>3.288063</td>\n",
       "    </tr>\n",
       "  </tbody>\n",
       "</table>\n",
       "<p>365 rows × 1 columns</p>\n",
       "</div>"
      ],
      "text/plain": [
       "                  x1\n",
       "2018-01-01  1.959761\n",
       "2018-01-02  3.710959\n",
       "2018-01-03  1.064980\n",
       "2018-01-04  2.418963\n",
       "2018-01-05 -0.505510\n",
       "...              ...\n",
       "2018-12-27  2.574924\n",
       "2018-12-28  1.938405\n",
       "2018-12-29 -1.722473\n",
       "2018-12-30 -1.985575\n",
       "2018-12-31  3.288063\n",
       "\n",
       "[365 rows x 1 columns]"
      ]
     },
     "execution_count": 94,
     "metadata": {},
     "output_type": "execute_result"
    }
   ],
   "source": [
    "X = df.iloc[:, [0]]\n",
    "X"
   ]
  },
  {
   "cell_type": "code",
   "execution_count": 95,
   "metadata": {},
   "outputs": [
    {
     "data": {
      "text/plain": [
       "2018-01-01    2.301392\n",
       "2018-01-02    3.018888\n",
       "2018-01-03    1.868981\n",
       "2018-01-04    2.452304\n",
       "2018-01-05    1.347748\n",
       "                ...   \n",
       "2018-12-27    3.082455\n",
       "2018-12-28    2.323465\n",
       "2018-12-29   -2.039858\n",
       "2018-12-30   -0.833723\n",
       "2018-12-31    4.099696\n",
       "Freq: D, Name: y, Length: 365, dtype: float64"
      ]
     },
     "execution_count": 95,
     "metadata": {},
     "output_type": "execute_result"
    }
   ],
   "source": [
    "y = df.iloc[:, -1]\n",
    "y"
   ]
  },
  {
   "cell_type": "code",
   "execution_count": 96,
   "metadata": {},
   "outputs": [],
   "source": [
    "# perform a lasso regression with iterative fitting along a regularisation path\n",
    "# the best model is selected by cross validation\n",
    "from sklearn.linear_model import LassoCV\n",
    "modelCV = LassoCV(cv = trainCvSplit).fit(X, y)"
   ]
  },
  {
   "cell_type": "code",
   "execution_count": 97,
   "metadata": {},
   "outputs": [
    {
     "data": {
      "text/plain": [
       "0.7351530828154118"
      ]
     },
     "execution_count": 97,
     "metadata": {},
     "output_type": "execute_result"
    }
   ],
   "source": [
    "# score\n",
    "modelCV.score(X, y)"
   ]
  },
  {
   "cell_type": "code",
   "execution_count": 98,
   "metadata": {},
   "outputs": [
    {
     "data": {
      "text/plain": [
       "array([ 1.92264628e+00,  3.62249167e+00,  1.05410477e+00,  2.36838270e+00,\n",
       "       -4.70331968e-01, -9.68791452e-01,  4.00570485e+00,  3.35478229e+00,\n",
       "       -7.43333466e-01,  3.65290785e+00,  8.40207537e-01,  3.57007864e+00,\n",
       "        3.00904574e+00,  2.96409046e+00,  8.62939178e-02,  3.19621751e+00,\n",
       "        1.22588836e+00,  1.70125113e+00, -4.85265488e-01, -9.75710785e-01,\n",
       "        5.40267267e+00,  2.55388312e+00,  3.60559814e+00,  2.10402068e+00,\n",
       "        4.68294064e+00, -1.14923127e+00,  1.19299734e+00, -8.22021258e-01,\n",
       "        9.23694802e-01,  2.94379369e+00,  4.45692563e+00,  1.40723468e+00,\n",
       "       -5.62522872e-01,  2.55252900e+00, -1.00151334e+00,  3.03105958e+00,\n",
       "        3.51951260e+00,  1.48071308e-01,  1.41284471e+00,  1.88843697e+00,\n",
       "        2.41321953e+00,  1.53403997e+00,  4.15755574e+00,  1.70521785e+00,\n",
       "        3.98761477e+00,  1.99201153e+00, -7.24231369e-01,  3.20375408e+00,\n",
       "        8.34366174e-01,  1.11470658e+00,  1.07077761e+00, -9.87792206e-01,\n",
       "        2.14537381e+00,  3.20811843e+00,  2.67591479e+00,  3.04750020e+00,\n",
       "        2.44418204e+00, -8.05845766e-01,  3.30445798e+00,  5.47100719e-01,\n",
       "        3.91639619e+00, -1.25832281e+00,  9.60218255e-01,  2.31004387e+00,\n",
       "       -4.09585729e-01,  2.14777606e+00,  4.18057949e+00,  2.51730292e+00,\n",
       "        1.53182379e+00, -7.09080364e-02, -8.85196988e-01,  2.70007263e+00,\n",
       "       -1.40280308e+00,  2.87438753e+00, -2.68496462e-01,  3.19787861e+00,\n",
       "       -5.59638631e-02,  3.06792556e+00,  2.87026634e-01,  6.15934560e-01,\n",
       "        3.46926144e+00,  4.01147002e+00,  4.51407023e+00,  1.58659844e+00,\n",
       "        1.30216452e+00,  1.50457580e+00,  4.61922021e+00,  2.63864465e+00,\n",
       "       -2.09078945e-01,  3.01772168e+00,  1.45086671e+00, -4.27270360e-01,\n",
       "        2.94997437e-01,  2.03186729e+00,  3.49161615e+00,  1.53533124e-01,\n",
       "        1.87725566e+00,  4.59379839e-01,  3.17320959e+00,  1.48438379e+00,\n",
       "        2.82716323e+00,  4.56333166e+00,  4.56220888e+00,  6.09520400e-03,\n",
       "        2.74554064e+00,  2.29579885e+00, -1.01407753e-02,  2.77440651e+00,\n",
       "        1.48073711e+00, -9.11058236e-01, -6.16296786e-01,  3.96486587e+00,\n",
       "        4.03679631e+00,  3.46824071e+00,  3.40681260e-01,  2.99953735e+00,\n",
       "        3.56267218e+00,  1.58541084e+00,  3.90377186e+00,  3.55644071e+00,\n",
       "        5.97158146e-01,  1.11140032e+00,  2.45541877e+00,  4.68350591e+00,\n",
       "        9.48234919e-02,  5.49615381e-01,  4.72615928e+00,  1.94289214e+00,\n",
       "        8.11820858e-01,  1.19281437e+00,  4.30784386e+00,  3.24453980e+00,\n",
       "        2.14216507e+00,  5.88165788e+00,  3.59604356e+00,  4.19713970e+00,\n",
       "        3.00119978e+00,  2.27907784e+00,  6.95061201e-01,  4.58721574e+00,\n",
       "        3.60258572e+00,  2.46546831e+00,  1.99054076e+00, -5.44346726e-01,\n",
       "        4.15722758e-01,  1.52024564e+00,  1.23768733e+00,  2.58416565e+00,\n",
       "        3.30465756e+00,  3.97461376e+00,  2.87312046e+00,  5.62804869e+00,\n",
       "        4.64181454e+00,  5.15551733e+00,  3.30421100e+00, -5.98712787e-01,\n",
       "       -1.68639807e+00, -6.17372085e-01,  8.90610598e-01,  2.47472822e+00,\n",
       "        8.72576768e-01,  2.24479800e+00,  2.40098244e+00,  7.65037659e-02,\n",
       "        1.56379526e+00,  9.26747894e-01,  3.60825814e+00, -2.87060116e-01,\n",
       "        3.19611682e-01,  3.15771718e+00, -1.68546615e-01,  4.29931866e+00,\n",
       "        5.04592432e+00,  2.12125608e-01,  1.29722875e+00,  3.35572064e+00,\n",
       "       -4.15604607e-01,  4.30512408e+00,  3.56404664e+00,  6.49957893e-01,\n",
       "        2.81386517e+00,  3.74044083e+00,  5.95381793e-01,  2.19669308e+00,\n",
       "        3.17878957e+00,  3.81990392e+00,  7.00435518e-01,  8.01332692e-01,\n",
       "        1.15985540e+00,  4.33562414e+00,  3.05190154e+00,  3.80942823e+00,\n",
       "        1.29752241e+00,  2.37432192e+00,  2.68578478e+00,  9.87422339e-01,\n",
       "        1.99145739e+00,  3.12644614e+00,  1.20981561e+00, -1.37431111e+00,\n",
       "        3.69026253e+00,  4.57738835e+00,  3.40125600e+00,  1.16970631e+00,\n",
       "        1.45721597e+00,  4.89734458e+00,  5.26413641e+00,  2.16064428e+00,\n",
       "        1.41572137e-01,  4.08334332e+00,  3.85282577e+00,  4.41687010e+00,\n",
       "        1.19879937e-01,  2.22580194e+00,  1.12022960e+00, -5.12166789e-03,\n",
       "        2.17688079e+00,  2.70785175e+00,  9.51404018e-01,  1.95279882e+00,\n",
       "        5.31805809e+00,  4.01321385e-01,  3.42574827e+00,  1.97080164e+00,\n",
       "        2.74707387e+00,  1.43540929e+00,  9.13222450e-01,  1.77637920e+00,\n",
       "        1.73779962e+00,  1.80898381e+00,  4.55689181e+00,  1.44958714e+00,\n",
       "        1.50652671e+00,  1.64750016e+00,  9.79681231e-01,  3.22493366e+00,\n",
       "        2.57684179e+00,  1.24609491e+00,  2.66454265e+00,  4.21523182e-01,\n",
       "        3.15790559e+00,  5.23340997e-01,  2.54344373e+00,  6.51010414e-02,\n",
       "        4.44657572e+00,  1.89112600e+00,  2.12582161e+00,  2.95852820e-01,\n",
       "        2.71152887e+00,  5.18753120e-01,  2.89280013e+00,  3.15539288e+00,\n",
       "        1.99895391e+00,  3.90046391e-01,  7.68738225e-01,  1.13640094e+00,\n",
       "        2.58410706e+00,  2.71392162e+00,  1.25872303e+00,  3.98704387e+00,\n",
       "        1.54329957e+00,  3.18573451e+00,  3.26119017e+00,  9.14084554e-01,\n",
       "       -3.40436354e-02,  2.20225637e+00,  3.87474238e+00,  7.42114509e-01,\n",
       "        4.26270702e+00, -1.70514837e-01,  3.99999891e-03,  4.58091471e+00,\n",
       "        2.37052160e+00,  2.64964893e+00,  2.26393574e+00,  1.93766706e+00,\n",
       "        1.72463868e+00,  3.57901588e+00,  1.87555972e+00,  1.38604996e+00,\n",
       "        1.40125011e+00,  8.33359183e-01, -1.56032672e+00,  1.91485049e+00,\n",
       "        2.26289292e+00,  1.61899928e+00,  3.96794684e+00,  1.40237994e+00,\n",
       "        4.90458509e+00,  3.70057060e+00, -4.92707079e-01,  1.59467292e+00,\n",
       "        6.46590505e+00,  5.96375585e-01,  1.70539683e+00,  1.28235002e+00,\n",
       "        3.02017441e+00, -9.63647817e-01,  6.37863219e-01,  1.07824890e+00,\n",
       "       -1.71468430e-01,  2.44438071e+00,  2.23736760e+00, -1.95832692e-01,\n",
       "        4.90559013e+00,  3.43156661e+00,  6.05395113e+00,  2.34157423e+00,\n",
       "        1.40933451e+00, -1.08275742e+00,  1.66540278e+00,  4.54757449e+00,\n",
       "       -1.13149281e+00,  6.81454297e-01,  3.54405936e+00,  1.10802805e+00,\n",
       "        1.34393974e+00, -1.67157289e-02,  2.86183308e+00,  2.88591013e+00,\n",
       "        1.06578527e+00,  1.28338891e+00,  3.61176260e+00,  1.89179624e+00,\n",
       "        3.89911154e+00,  1.99757342e+00,  1.37280110e+00, -1.99156871e+00,\n",
       "        8.32211705e-01,  2.65917538e+00,  1.15193255e+00,  2.55342312e+00,\n",
       "        3.15712589e+00,  4.63934060e+00,  8.26097310e-01,  1.48969105e+00,\n",
       "        3.23030934e+00,  2.61342014e+00,  6.92427711e-01,  2.38801319e+00,\n",
       "       -1.32401574e+00, -1.61825321e+00,  1.99120414e+00,  2.50484384e+00,\n",
       "       -7.70122462e-01,  9.44671979e-01,  4.25704413e+00,  1.65864936e+00,\n",
       "        1.73084023e+00,  3.49161697e+00,  1.81667032e+00,  1.88606304e-01,\n",
       "        4.24747096e+00,  2.41551610e+00,  1.10857362e+00,  4.92904448e+00,\n",
       "        7.67983666e-01,  4.32798146e+00,  2.66815076e+00,  1.38711998e+00,\n",
       "        2.51977074e+00,  1.90191669e+00, -1.65160901e+00, -1.90699494e+00,\n",
       "        3.21199720e+00])"
      ]
     },
     "execution_count": 98,
     "metadata": {},
     "output_type": "execute_result"
    }
   ],
   "source": [
    "# make predictions\n",
    "y_pred = modelCV.predict(X)\n",
    "y_pred"
   ]
  },
  {
   "cell_type": "code",
   "execution_count": 99,
   "metadata": {},
   "outputs": [
    {
     "data": {
      "text/plain": [
       "[<matplotlib.lines.Line2D at 0x11b683b20>]"
      ]
     },
     "execution_count": 99,
     "metadata": {},
     "output_type": "execute_result"
    },
    {
     "data": {
      "image/png": "[encoded data removed]",
      "text/plain": [
       "<Figure size 432x288 with 1 Axes>"
      ]
     },
     "metadata": {
      "needs_background": "light"
     },
     "output_type": "display_data"
    }
   ],
   "source": [
    "plt.plot(df.index, df.y, color = \"blue\", label = \"y_true\")\n",
    "plt.plot(df.index, y_pred, color = \"red\", label = \"y_predicted\")"
   ]
  },
  {
   "cell_type": "code",
   "execution_count": 100,
   "metadata": {},
   "outputs": [
    {
     "data": {
      "text/plain": [
       "[<matplotlib.lines.Line2D at 0x11b6b2af0>]"
      ]
     },
     "execution_count": 100,
     "metadata": {},
     "output_type": "execute_result"
    },
    {
     "data": {
      "image/png": "[encoded data removed]",
      "text/plain": [
       "<Figure size 432x288 with 1 Axes>"
      ]
     },
     "metadata": {
      "needs_background": "light"
     },
     "output_type": "display_data"
    }
   ],
   "source": [
    "plt.plot(df.index, y_pred - df.y, color = \"red\", label = \"y_true_predicted\")"
   ]
  },
  {
   "cell_type": "code",
   "execution_count": 101,
   "metadata": {},
   "outputs": [
    {
     "data": {
      "text/plain": [
       "<matplotlib.collections.PathCollection at 0x11b616ee0>"
      ]
     },
     "execution_count": 101,
     "metadata": {},
     "output_type": "execute_result"
    },
    {
     "data": {
      "image/png": "[encoded data removed]",
      "text/plain": [
       "<Figure size 432x288 with 1 Axes>"
      ]
     },
     "metadata": {
      "needs_background": "light"
     },
     "output_type": "display_data"
    }
   ],
   "source": [
    "plt.scatter(df.x1, df.y, color = \"blue\", label = \"y_true\")\n",
    "plt.scatter(df.x1, y_pred, color = \"red\", label = \"y_predicted\")"
   ]
  },
  {
   "cell_type": "markdown",
   "metadata": {},
   "source": [
    "# Other"
   ]
  },
  {
   "cell_type": "code",
   "execution_count": 105,
   "metadata": {},
   "outputs": [
    {
     "data": {
      "text/plain": [
       "<scipy.stats._distn_infrastructure.rv_frozen at 0x11b74a0d0>"
      ]
     },
     "execution_count": 105,
     "metadata": {},
     "output_type": "execute_result"
    }
   ],
   "source": [
    "import scipy\n",
    "scipy.stats.expon(scale=100)"
   ]
  }
 ],
 "metadata": {
  "kernelspec": {
   "display_name": "Python 3",
   "language": "python",
   "name": "python3"
  },
  "language_info": {
   "codemirror_mode": {
    "name": "ipython",
    "version": 3
   },
   "file_extension": ".py",
   "mimetype": "text/x-python",
   "name": "python",
   "nbconvert_exporter": "python",
   "pygments_lexer": "ipython3",
   "version": "3.8.6"
  }
 },
 "nbformat": 4,
 "nbformat_minor": 4
}
